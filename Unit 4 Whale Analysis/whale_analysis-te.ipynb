{
 "cells": [
  {
   "cell_type": "markdown",
   "metadata": {},
   "source": [
    " #  A Whale off the Port(folio)\n",
    " ---\n",
    "\n",
    " In this assignment, you'll get to use what you've learned this week to evaluate the performance among various algorithmic, hedge, and mutual fund portfolios and compare them against the S&P TSX 60 Index."
   ]
  },
  {
   "cell_type": "code",
   "execution_count": 307,
   "metadata": {},
   "outputs": [],
   "source": [
    "# Initial imports\n",
    "import pandas as pd\n",
    "import numpy as np\n",
    "import datetime as dt\n",
    "from pathlib import Path\n",
    "import os\n",
    "import alpaca_trade_api as tradeapi\n",
    "\n",
    "%matplotlib inline"
   ]
  },
  {
   "cell_type": "markdown",
   "metadata": {},
   "source": [
    "# Data Cleaning\n",
    "\n",
    "In this section, you will need to read the CSV files into DataFrames and perform any necessary data cleaning steps. After cleaning, combine all DataFrames into a single DataFrame.\n",
    "\n",
    "Files:\n",
    "\n",
    "* `whale_returns.csv`: Contains returns of some famous \"whale\" investors' portfolios.\n",
    "\n",
    "* `algo_returns.csv`: Contains returns from the in-house trading algorithms from Harold's company.\n",
    "\n",
    "* `sp_tsx_history.csv`: Contains historical closing prices of the S&P TSX 60 Index."
   ]
  },
  {
   "cell_type": "markdown",
   "metadata": {},
   "source": [
    "## Whale Returns\n",
    "\n",
    "Read the Whale Portfolio daily returns and clean the data."
   ]
  },
  {
   "cell_type": "code",
   "execution_count": 308,
   "metadata": {},
   "outputs": [],
   "source": [
    "csv_path_whale = Path(\"./Resources/whale_returns.csv\")"
   ]
  },
  {
   "cell_type": "code",
   "execution_count": 309,
   "metadata": {},
   "outputs": [
    {
     "data": {
      "text/html": [
       "<div>\n",
       "<style scoped>\n",
       "    .dataframe tbody tr th:only-of-type {\n",
       "        vertical-align: middle;\n",
       "    }\n",
       "\n",
       "    .dataframe tbody tr th {\n",
       "        vertical-align: top;\n",
       "    }\n",
       "\n",
       "    .dataframe thead th {\n",
       "        text-align: right;\n",
       "    }\n",
       "</style>\n",
       "<table border=\"1\" class=\"dataframe\">\n",
       "  <thead>\n",
       "    <tr style=\"text-align: right;\">\n",
       "      <th></th>\n",
       "      <th>SOROS FUND MANAGEMENT LLC</th>\n",
       "      <th>PAULSON &amp; CO.INC.</th>\n",
       "      <th>TIGER GLOBAL MANAGEMENT LLC</th>\n",
       "      <th>BERKSHIRE HATHAWAY INC</th>\n",
       "    </tr>\n",
       "    <tr>\n",
       "      <th>Date</th>\n",
       "      <th></th>\n",
       "      <th></th>\n",
       "      <th></th>\n",
       "      <th></th>\n",
       "    </tr>\n",
       "  </thead>\n",
       "  <tbody>\n",
       "    <tr>\n",
       "      <th>2015-03-02</th>\n",
       "      <td>NaN</td>\n",
       "      <td>NaN</td>\n",
       "      <td>NaN</td>\n",
       "      <td>NaN</td>\n",
       "    </tr>\n",
       "    <tr>\n",
       "      <th>2015-03-03</th>\n",
       "      <td>-0.001266</td>\n",
       "      <td>-0.004981</td>\n",
       "      <td>-0.000496</td>\n",
       "      <td>-0.006569</td>\n",
       "    </tr>\n",
       "    <tr>\n",
       "      <th>2015-03-04</th>\n",
       "      <td>0.002230</td>\n",
       "      <td>0.003241</td>\n",
       "      <td>-0.002534</td>\n",
       "      <td>0.004213</td>\n",
       "    </tr>\n",
       "    <tr>\n",
       "      <th>2015-03-05</th>\n",
       "      <td>0.004016</td>\n",
       "      <td>0.004076</td>\n",
       "      <td>0.002355</td>\n",
       "      <td>0.006726</td>\n",
       "    </tr>\n",
       "    <tr>\n",
       "      <th>2015-03-06</th>\n",
       "      <td>-0.007905</td>\n",
       "      <td>-0.003574</td>\n",
       "      <td>-0.008481</td>\n",
       "      <td>-0.013098</td>\n",
       "    </tr>\n",
       "    <tr>\n",
       "      <th>...</th>\n",
       "      <td>...</td>\n",
       "      <td>...</td>\n",
       "      <td>...</td>\n",
       "      <td>...</td>\n",
       "    </tr>\n",
       "    <tr>\n",
       "      <th>2019-04-25</th>\n",
       "      <td>-0.000285</td>\n",
       "      <td>-0.001291</td>\n",
       "      <td>-0.005153</td>\n",
       "      <td>0.004848</td>\n",
       "    </tr>\n",
       "    <tr>\n",
       "      <th>2019-04-26</th>\n",
       "      <td>0.008149</td>\n",
       "      <td>0.009162</td>\n",
       "      <td>0.012355</td>\n",
       "      <td>0.010434</td>\n",
       "    </tr>\n",
       "    <tr>\n",
       "      <th>2019-04-29</th>\n",
       "      <td>0.001254</td>\n",
       "      <td>0.002719</td>\n",
       "      <td>0.006251</td>\n",
       "      <td>0.005223</td>\n",
       "    </tr>\n",
       "    <tr>\n",
       "      <th>2019-04-30</th>\n",
       "      <td>-0.001295</td>\n",
       "      <td>-0.002211</td>\n",
       "      <td>-0.000259</td>\n",
       "      <td>-0.003702</td>\n",
       "    </tr>\n",
       "    <tr>\n",
       "      <th>2019-05-01</th>\n",
       "      <td>-0.005847</td>\n",
       "      <td>-0.001341</td>\n",
       "      <td>-0.007936</td>\n",
       "      <td>-0.007833</td>\n",
       "    </tr>\n",
       "  </tbody>\n",
       "</table>\n",
       "<p>1060 rows × 4 columns</p>\n",
       "</div>"
      ],
      "text/plain": [
       "            SOROS FUND MANAGEMENT LLC  PAULSON & CO.INC.   \\\n",
       "Date                                                        \n",
       "2015-03-02                        NaN                 NaN   \n",
       "2015-03-03                  -0.001266           -0.004981   \n",
       "2015-03-04                   0.002230            0.003241   \n",
       "2015-03-05                   0.004016            0.004076   \n",
       "2015-03-06                  -0.007905           -0.003574   \n",
       "...                               ...                 ...   \n",
       "2019-04-25                  -0.000285           -0.001291   \n",
       "2019-04-26                   0.008149            0.009162   \n",
       "2019-04-29                   0.001254            0.002719   \n",
       "2019-04-30                  -0.001295           -0.002211   \n",
       "2019-05-01                  -0.005847           -0.001341   \n",
       "\n",
       "            TIGER GLOBAL MANAGEMENT LLC  BERKSHIRE HATHAWAY INC  \n",
       "Date                                                             \n",
       "2015-03-02                          NaN                     NaN  \n",
       "2015-03-03                    -0.000496               -0.006569  \n",
       "2015-03-04                    -0.002534                0.004213  \n",
       "2015-03-05                     0.002355                0.006726  \n",
       "2015-03-06                    -0.008481               -0.013098  \n",
       "...                                 ...                     ...  \n",
       "2019-04-25                    -0.005153                0.004848  \n",
       "2019-04-26                     0.012355                0.010434  \n",
       "2019-04-29                     0.006251                0.005223  \n",
       "2019-04-30                    -0.000259               -0.003702  \n",
       "2019-05-01                    -0.007936               -0.007833  \n",
       "\n",
       "[1060 rows x 4 columns]"
      ]
     },
     "execution_count": 309,
     "metadata": {},
     "output_type": "execute_result"
    }
   ],
   "source": [
    "# Reading whale returns\n",
    "whale_df = pd.read_csv(csv_path_whale, index_col=\"Date\",infer_datetime_format=True, parse_dates=True)\n",
    "whale_df"
   ]
  },
  {
   "cell_type": "code",
   "execution_count": null,
   "metadata": {},
   "outputs": [],
   "source": []
  },
  {
   "cell_type": "code",
   "execution_count": 310,
   "metadata": {},
   "outputs": [
    {
     "data": {
      "text/plain": [
       "SOROS FUND MANAGEMENT LLC      1060\n",
       "PAULSON & CO.INC.              1060\n",
       "TIGER GLOBAL MANAGEMENT LLC    1060\n",
       "BERKSHIRE HATHAWAY INC         1060\n",
       "dtype: int64"
      ]
     },
     "execution_count": 310,
     "metadata": {},
     "output_type": "execute_result"
    }
   ],
   "source": [
    "# Count nulls\n",
    "whale_df.isnull().count()"
   ]
  },
  {
   "cell_type": "code",
   "execution_count": 311,
   "metadata": {},
   "outputs": [
    {
     "data": {
      "text/html": [
       "<div>\n",
       "<style scoped>\n",
       "    .dataframe tbody tr th:only-of-type {\n",
       "        vertical-align: middle;\n",
       "    }\n",
       "\n",
       "    .dataframe tbody tr th {\n",
       "        vertical-align: top;\n",
       "    }\n",
       "\n",
       "    .dataframe thead th {\n",
       "        text-align: right;\n",
       "    }\n",
       "</style>\n",
       "<table border=\"1\" class=\"dataframe\">\n",
       "  <thead>\n",
       "    <tr style=\"text-align: right;\">\n",
       "      <th></th>\n",
       "      <th>SOROS FUND MANAGEMENT LLC</th>\n",
       "      <th>PAULSON &amp; CO.INC.</th>\n",
       "      <th>TIGER GLOBAL MANAGEMENT LLC</th>\n",
       "      <th>BERKSHIRE HATHAWAY INC</th>\n",
       "    </tr>\n",
       "    <tr>\n",
       "      <th>Date</th>\n",
       "      <th></th>\n",
       "      <th></th>\n",
       "      <th></th>\n",
       "      <th></th>\n",
       "    </tr>\n",
       "  </thead>\n",
       "  <tbody>\n",
       "    <tr>\n",
       "      <th>2015-03-03</th>\n",
       "      <td>-0.001266</td>\n",
       "      <td>-0.004981</td>\n",
       "      <td>-0.000496</td>\n",
       "      <td>-0.006569</td>\n",
       "    </tr>\n",
       "    <tr>\n",
       "      <th>2015-03-04</th>\n",
       "      <td>0.002230</td>\n",
       "      <td>0.003241</td>\n",
       "      <td>-0.002534</td>\n",
       "      <td>0.004213</td>\n",
       "    </tr>\n",
       "    <tr>\n",
       "      <th>2015-03-05</th>\n",
       "      <td>0.004016</td>\n",
       "      <td>0.004076</td>\n",
       "      <td>0.002355</td>\n",
       "      <td>0.006726</td>\n",
       "    </tr>\n",
       "    <tr>\n",
       "      <th>2015-03-06</th>\n",
       "      <td>-0.007905</td>\n",
       "      <td>-0.003574</td>\n",
       "      <td>-0.008481</td>\n",
       "      <td>-0.013098</td>\n",
       "    </tr>\n",
       "    <tr>\n",
       "      <th>2015-03-09</th>\n",
       "      <td>0.000582</td>\n",
       "      <td>0.004225</td>\n",
       "      <td>0.005843</td>\n",
       "      <td>-0.001652</td>\n",
       "    </tr>\n",
       "    <tr>\n",
       "      <th>...</th>\n",
       "      <td>...</td>\n",
       "      <td>...</td>\n",
       "      <td>...</td>\n",
       "      <td>...</td>\n",
       "    </tr>\n",
       "    <tr>\n",
       "      <th>2019-04-25</th>\n",
       "      <td>-0.000285</td>\n",
       "      <td>-0.001291</td>\n",
       "      <td>-0.005153</td>\n",
       "      <td>0.004848</td>\n",
       "    </tr>\n",
       "    <tr>\n",
       "      <th>2019-04-26</th>\n",
       "      <td>0.008149</td>\n",
       "      <td>0.009162</td>\n",
       "      <td>0.012355</td>\n",
       "      <td>0.010434</td>\n",
       "    </tr>\n",
       "    <tr>\n",
       "      <th>2019-04-29</th>\n",
       "      <td>0.001254</td>\n",
       "      <td>0.002719</td>\n",
       "      <td>0.006251</td>\n",
       "      <td>0.005223</td>\n",
       "    </tr>\n",
       "    <tr>\n",
       "      <th>2019-04-30</th>\n",
       "      <td>-0.001295</td>\n",
       "      <td>-0.002211</td>\n",
       "      <td>-0.000259</td>\n",
       "      <td>-0.003702</td>\n",
       "    </tr>\n",
       "    <tr>\n",
       "      <th>2019-05-01</th>\n",
       "      <td>-0.005847</td>\n",
       "      <td>-0.001341</td>\n",
       "      <td>-0.007936</td>\n",
       "      <td>-0.007833</td>\n",
       "    </tr>\n",
       "  </tbody>\n",
       "</table>\n",
       "<p>1059 rows × 4 columns</p>\n",
       "</div>"
      ],
      "text/plain": [
       "            SOROS FUND MANAGEMENT LLC  PAULSON & CO.INC.   \\\n",
       "Date                                                        \n",
       "2015-03-03                  -0.001266           -0.004981   \n",
       "2015-03-04                   0.002230            0.003241   \n",
       "2015-03-05                   0.004016            0.004076   \n",
       "2015-03-06                  -0.007905           -0.003574   \n",
       "2015-03-09                   0.000582            0.004225   \n",
       "...                               ...                 ...   \n",
       "2019-04-25                  -0.000285           -0.001291   \n",
       "2019-04-26                   0.008149            0.009162   \n",
       "2019-04-29                   0.001254            0.002719   \n",
       "2019-04-30                  -0.001295           -0.002211   \n",
       "2019-05-01                  -0.005847           -0.001341   \n",
       "\n",
       "            TIGER GLOBAL MANAGEMENT LLC  BERKSHIRE HATHAWAY INC  \n",
       "Date                                                             \n",
       "2015-03-03                    -0.000496               -0.006569  \n",
       "2015-03-04                    -0.002534                0.004213  \n",
       "2015-03-05                     0.002355                0.006726  \n",
       "2015-03-06                    -0.008481               -0.013098  \n",
       "2015-03-09                     0.005843               -0.001652  \n",
       "...                                 ...                     ...  \n",
       "2019-04-25                    -0.005153                0.004848  \n",
       "2019-04-26                     0.012355                0.010434  \n",
       "2019-04-29                     0.006251                0.005223  \n",
       "2019-04-30                    -0.000259               -0.003702  \n",
       "2019-05-01                    -0.007936               -0.007833  \n",
       "\n",
       "[1059 rows x 4 columns]"
      ]
     },
     "execution_count": 311,
     "metadata": {},
     "output_type": "execute_result"
    }
   ],
   "source": [
    "# Drop nulls\n",
    "whale_df.dropna(inplace=True)\n",
    "whale_df\n"
   ]
  },
  {
   "cell_type": "code",
   "execution_count": null,
   "metadata": {},
   "outputs": [],
   "source": []
  },
  {
   "cell_type": "markdown",
   "metadata": {},
   "source": []
  },
  {
   "cell_type": "markdown",
   "metadata": {},
   "source": [
    "## Algorithmic Daily Returns\n",
    "\n",
    "Read the algorithmic daily returns and clean the data."
   ]
  },
  {
   "cell_type": "code",
   "execution_count": 312,
   "metadata": {},
   "outputs": [
    {
     "data": {
      "text/html": [
       "<div>\n",
       "<style scoped>\n",
       "    .dataframe tbody tr th:only-of-type {\n",
       "        vertical-align: middle;\n",
       "    }\n",
       "\n",
       "    .dataframe tbody tr th {\n",
       "        vertical-align: top;\n",
       "    }\n",
       "\n",
       "    .dataframe thead th {\n",
       "        text-align: right;\n",
       "    }\n",
       "</style>\n",
       "<table border=\"1\" class=\"dataframe\">\n",
       "  <thead>\n",
       "    <tr style=\"text-align: right;\">\n",
       "      <th></th>\n",
       "      <th>Algo 1</th>\n",
       "      <th>Algo 2</th>\n",
       "    </tr>\n",
       "    <tr>\n",
       "      <th>Date</th>\n",
       "      <th></th>\n",
       "      <th></th>\n",
       "    </tr>\n",
       "  </thead>\n",
       "  <tbody>\n",
       "    <tr>\n",
       "      <th>2014-05-28</th>\n",
       "      <td>0.001745</td>\n",
       "      <td>NaN</td>\n",
       "    </tr>\n",
       "    <tr>\n",
       "      <th>2014-05-29</th>\n",
       "      <td>0.003978</td>\n",
       "      <td>NaN</td>\n",
       "    </tr>\n",
       "    <tr>\n",
       "      <th>2014-05-30</th>\n",
       "      <td>0.004464</td>\n",
       "      <td>NaN</td>\n",
       "    </tr>\n",
       "    <tr>\n",
       "      <th>2014-06-02</th>\n",
       "      <td>0.005692</td>\n",
       "      <td>NaN</td>\n",
       "    </tr>\n",
       "    <tr>\n",
       "      <th>2014-06-03</th>\n",
       "      <td>0.005292</td>\n",
       "      <td>NaN</td>\n",
       "    </tr>\n",
       "    <tr>\n",
       "      <th>...</th>\n",
       "      <td>...</td>\n",
       "      <td>...</td>\n",
       "    </tr>\n",
       "    <tr>\n",
       "      <th>2019-04-25</th>\n",
       "      <td>0.000682</td>\n",
       "      <td>-0.007247</td>\n",
       "    </tr>\n",
       "    <tr>\n",
       "      <th>2019-04-26</th>\n",
       "      <td>0.002981</td>\n",
       "      <td>0.005256</td>\n",
       "    </tr>\n",
       "    <tr>\n",
       "      <th>2019-04-29</th>\n",
       "      <td>0.005208</td>\n",
       "      <td>0.002829</td>\n",
       "    </tr>\n",
       "    <tr>\n",
       "      <th>2019-04-30</th>\n",
       "      <td>-0.002944</td>\n",
       "      <td>-0.001570</td>\n",
       "    </tr>\n",
       "    <tr>\n",
       "      <th>2019-05-01</th>\n",
       "      <td>0.000094</td>\n",
       "      <td>-0.007358</td>\n",
       "    </tr>\n",
       "  </tbody>\n",
       "</table>\n",
       "<p>1241 rows × 2 columns</p>\n",
       "</div>"
      ],
      "text/plain": [
       "              Algo 1    Algo 2\n",
       "Date                          \n",
       "2014-05-28  0.001745       NaN\n",
       "2014-05-29  0.003978       NaN\n",
       "2014-05-30  0.004464       NaN\n",
       "2014-06-02  0.005692       NaN\n",
       "2014-06-03  0.005292       NaN\n",
       "...              ...       ...\n",
       "2019-04-25  0.000682 -0.007247\n",
       "2019-04-26  0.002981  0.005256\n",
       "2019-04-29  0.005208  0.002829\n",
       "2019-04-30 -0.002944 -0.001570\n",
       "2019-05-01  0.000094 -0.007358\n",
       "\n",
       "[1241 rows x 2 columns]"
      ]
     },
     "execution_count": 312,
     "metadata": {},
     "output_type": "execute_result"
    }
   ],
   "source": [
    "# Reading algorithmic returns\n",
    "csv_path_algo = Path(\"./Resources/algo_returns.csv\")\n",
    "algo_df = pd.read_csv(csv_path_algo, index_col=\"Date\",infer_datetime_format=True, parse_dates=True)\n",
    "algo_df"
   ]
  },
  {
   "cell_type": "code",
   "execution_count": 313,
   "metadata": {},
   "outputs": [
    {
     "data": {
      "text/plain": [
       "Algo 1    1241\n",
       "Algo 2    1241\n",
       "dtype: int64"
      ]
     },
     "execution_count": 313,
     "metadata": {},
     "output_type": "execute_result"
    }
   ],
   "source": [
    "# Count nulls\n",
    "algo_df.isnull().count()"
   ]
  },
  {
   "cell_type": "code",
   "execution_count": 314,
   "metadata": {},
   "outputs": [
    {
     "data": {
      "text/html": [
       "<div>\n",
       "<style scoped>\n",
       "    .dataframe tbody tr th:only-of-type {\n",
       "        vertical-align: middle;\n",
       "    }\n",
       "\n",
       "    .dataframe tbody tr th {\n",
       "        vertical-align: top;\n",
       "    }\n",
       "\n",
       "    .dataframe thead th {\n",
       "        text-align: right;\n",
       "    }\n",
       "</style>\n",
       "<table border=\"1\" class=\"dataframe\">\n",
       "  <thead>\n",
       "    <tr style=\"text-align: right;\">\n",
       "      <th></th>\n",
       "      <th>Algo 1</th>\n",
       "      <th>Algo 2</th>\n",
       "    </tr>\n",
       "    <tr>\n",
       "      <th>Date</th>\n",
       "      <th></th>\n",
       "      <th></th>\n",
       "    </tr>\n",
       "  </thead>\n",
       "  <tbody>\n",
       "    <tr>\n",
       "      <th>2014-06-05</th>\n",
       "      <td>0.004062</td>\n",
       "      <td>0.013285</td>\n",
       "    </tr>\n",
       "    <tr>\n",
       "      <th>2014-06-06</th>\n",
       "      <td>0.001857</td>\n",
       "      <td>0.008284</td>\n",
       "    </tr>\n",
       "    <tr>\n",
       "      <th>2014-06-09</th>\n",
       "      <td>-0.005012</td>\n",
       "      <td>0.005668</td>\n",
       "    </tr>\n",
       "    <tr>\n",
       "      <th>2014-06-10</th>\n",
       "      <td>0.004406</td>\n",
       "      <td>-0.000735</td>\n",
       "    </tr>\n",
       "    <tr>\n",
       "      <th>2014-06-11</th>\n",
       "      <td>0.004760</td>\n",
       "      <td>-0.003761</td>\n",
       "    </tr>\n",
       "  </tbody>\n",
       "</table>\n",
       "</div>"
      ],
      "text/plain": [
       "              Algo 1    Algo 2\n",
       "Date                          \n",
       "2014-06-05  0.004062  0.013285\n",
       "2014-06-06  0.001857  0.008284\n",
       "2014-06-09 -0.005012  0.005668\n",
       "2014-06-10  0.004406 -0.000735\n",
       "2014-06-11  0.004760 -0.003761"
      ]
     },
     "execution_count": 314,
     "metadata": {},
     "output_type": "execute_result"
    }
   ],
   "source": [
    "# Drop nulls\n",
    "algo_df.dropna(inplace=True)\n",
    "\n",
    "# Print Algo returns\n",
    "algo_df.head()\n"
   ]
  },
  {
   "cell_type": "markdown",
   "metadata": {},
   "source": [
    "## S&P TSX 60 Returns\n",
    "\n",
    "Read the S&P TSX 60 historic closing prices and create a new daily returns DataFrame from the data. "
   ]
  },
  {
   "cell_type": "code",
   "execution_count": 315,
   "metadata": {},
   "outputs": [
    {
     "data": {
      "text/html": [
       "<div>\n",
       "<style scoped>\n",
       "    .dataframe tbody tr th:only-of-type {\n",
       "        vertical-align: middle;\n",
       "    }\n",
       "\n",
       "    .dataframe tbody tr th {\n",
       "        vertical-align: top;\n",
       "    }\n",
       "\n",
       "    .dataframe thead th {\n",
       "        text-align: right;\n",
       "    }\n",
       "</style>\n",
       "<table border=\"1\" class=\"dataframe\">\n",
       "  <thead>\n",
       "    <tr style=\"text-align: right;\">\n",
       "      <th></th>\n",
       "      <th>Close</th>\n",
       "    </tr>\n",
       "    <tr>\n",
       "      <th>Date</th>\n",
       "      <th></th>\n",
       "    </tr>\n",
       "  </thead>\n",
       "  <tbody>\n",
       "    <tr>\n",
       "      <th>2012-10-01</th>\n",
       "      <td>$12,370.19</td>\n",
       "    </tr>\n",
       "    <tr>\n",
       "      <th>2012-10-02</th>\n",
       "      <td>$12,391.23</td>\n",
       "    </tr>\n",
       "    <tr>\n",
       "      <th>2012-10-03</th>\n",
       "      <td>$12,359.47</td>\n",
       "    </tr>\n",
       "    <tr>\n",
       "      <th>2012-10-04</th>\n",
       "      <td>$12,447.68</td>\n",
       "    </tr>\n",
       "    <tr>\n",
       "      <th>2012-10-05</th>\n",
       "      <td>$12,418.99</td>\n",
       "    </tr>\n",
       "  </tbody>\n",
       "</table>\n",
       "</div>"
      ],
      "text/plain": [
       "                 Close\n",
       "Date                  \n",
       "2012-10-01  $12,370.19\n",
       "2012-10-02  $12,391.23\n",
       "2012-10-03  $12,359.47\n",
       "2012-10-04  $12,447.68\n",
       "2012-10-05  $12,418.99"
      ]
     },
     "execution_count": 315,
     "metadata": {},
     "output_type": "execute_result"
    }
   ],
   "source": [
    "# Reading S&P TSX 60 Closing Prices\n",
    "csv_path_tsx = Path(\"./Resources/sp_tsx_history.csv\")\n",
    "sp_tsx_df = pd.read_csv(csv_path_tsx, index_col=\"Date\",infer_datetime_format=True, parse_dates=True)\n",
    "sp_tsx_df.head()"
   ]
  },
  {
   "cell_type": "code",
   "execution_count": 316,
   "metadata": {},
   "outputs": [
    {
     "data": {
      "text/plain": [
       "Close    object\n",
       "dtype: object"
      ]
     },
     "execution_count": 316,
     "metadata": {},
     "output_type": "execute_result"
    }
   ],
   "source": [
    "# Check Data Types\n",
    "sp_tsx_df.dtypes"
   ]
  },
  {
   "cell_type": "code",
   "execution_count": 317,
   "metadata": {},
   "outputs": [
    {
     "name": "stdout",
     "output_type": "stream",
     "text": [
      "               Close\n",
      "Date                \n",
      "2012-10-01  12370.19\n",
      "2012-10-02  12391.23\n",
      "2012-10-03  12359.47\n",
      "2012-10-04  12447.68\n",
      "2012-10-05  12418.99\n",
      "...              ...\n",
      "2019-12-20  17118.44\n",
      "2019-12-23  17128.71\n",
      "2019-12-24  17180.15\n",
      "2019-12-27  17168.21\n",
      "2019-12-30  17098.56\n",
      "\n",
      "[1818 rows x 1 columns]\n"
     ]
    }
   ],
   "source": [
    "# Fix Data Types\n",
    "# cast to string\n",
    "sp_tsx_df[\"Close\"] = sp_tsx_df[\"Close\"].astype(str)  \n",
    "sp_tsx_df[\"Close\"] = sp_tsx_df[\"Close\"].str.replace(',','', regex=True).str.replace('$','',regex=True)\n",
    "sp_tsx_df[\"Close\"] = sp_tsx_df[\"Close\"].astype(float)\n",
    "print(sp_tsx_df)"
   ]
  },
  {
   "cell_type": "code",
   "execution_count": 318,
   "metadata": {},
   "outputs": [
    {
     "data": {
      "text/plain": [
       "Close    float64\n",
       "dtype: object"
      ]
     },
     "execution_count": 318,
     "metadata": {},
     "output_type": "execute_result"
    }
   ],
   "source": [
    "sp_tsx_df.dtypes"
   ]
  },
  {
   "cell_type": "code",
   "execution_count": 319,
   "metadata": {},
   "outputs": [
    {
     "name": "stdout",
     "output_type": "stream",
     "text": [
      "Date\n",
      "2012-10-01         NaN\n",
      "2012-10-02    0.001701\n",
      "2012-10-03   -0.002563\n",
      "2012-10-04    0.007137\n",
      "2012-10-05   -0.002305\n",
      "                ...   \n",
      "2019-12-20    0.003188\n",
      "2019-12-23    0.000600\n",
      "2019-12-24    0.003003\n",
      "2019-12-27   -0.000695\n",
      "2019-12-30   -0.004057\n",
      "Name: Close, Length: 1818, dtype: float64\n"
     ]
    }
   ],
   "source": [
    "# Calculate Daily Returns\n",
    "daily_returns_tsx= sp_tsx_df[\"Close\"].pct_change()\n",
    "print(daily_returns_tsx)"
   ]
  },
  {
   "cell_type": "code",
   "execution_count": 320,
   "metadata": {},
   "outputs": [
    {
     "data": {
      "text/html": [
       "<div>\n",
       "<style scoped>\n",
       "    .dataframe tbody tr th:only-of-type {\n",
       "        vertical-align: middle;\n",
       "    }\n",
       "\n",
       "    .dataframe tbody tr th {\n",
       "        vertical-align: top;\n",
       "    }\n",
       "\n",
       "    .dataframe thead th {\n",
       "        text-align: right;\n",
       "    }\n",
       "</style>\n",
       "<table border=\"1\" class=\"dataframe\">\n",
       "  <thead>\n",
       "    <tr style=\"text-align: right;\">\n",
       "      <th></th>\n",
       "      <th>Close</th>\n",
       "      <th>Returns</th>\n",
       "    </tr>\n",
       "    <tr>\n",
       "      <th>Date</th>\n",
       "      <th></th>\n",
       "      <th></th>\n",
       "    </tr>\n",
       "  </thead>\n",
       "  <tbody>\n",
       "    <tr>\n",
       "      <th>2012-10-01</th>\n",
       "      <td>12370.19</td>\n",
       "      <td>NaN</td>\n",
       "    </tr>\n",
       "    <tr>\n",
       "      <th>2012-10-02</th>\n",
       "      <td>12391.23</td>\n",
       "      <td>0.001701</td>\n",
       "    </tr>\n",
       "    <tr>\n",
       "      <th>2012-10-03</th>\n",
       "      <td>12359.47</td>\n",
       "      <td>-0.002563</td>\n",
       "    </tr>\n",
       "    <tr>\n",
       "      <th>2012-10-04</th>\n",
       "      <td>12447.68</td>\n",
       "      <td>0.007137</td>\n",
       "    </tr>\n",
       "    <tr>\n",
       "      <th>2012-10-05</th>\n",
       "      <td>12418.99</td>\n",
       "      <td>-0.002305</td>\n",
       "    </tr>\n",
       "  </tbody>\n",
       "</table>\n",
       "</div>"
      ],
      "text/plain": [
       "               Close   Returns\n",
       "Date                          \n",
       "2012-10-01  12370.19       NaN\n",
       "2012-10-02  12391.23  0.001701\n",
       "2012-10-03  12359.47 -0.002563\n",
       "2012-10-04  12447.68  0.007137\n",
       "2012-10-05  12418.99 -0.002305"
      ]
     },
     "execution_count": 320,
     "metadata": {},
     "output_type": "execute_result"
    }
   ],
   "source": [
    "#Create Additional Column\n",
    "sp_tsx_df[\"Returns\"] = daily_returns_tsx\n",
    "sp_tsx_df.head()"
   ]
  },
  {
   "cell_type": "code",
   "execution_count": 321,
   "metadata": {},
   "outputs": [
    {
     "data": {
      "text/html": [
       "<div>\n",
       "<style scoped>\n",
       "    .dataframe tbody tr th:only-of-type {\n",
       "        vertical-align: middle;\n",
       "    }\n",
       "\n",
       "    .dataframe tbody tr th {\n",
       "        vertical-align: top;\n",
       "    }\n",
       "\n",
       "    .dataframe thead th {\n",
       "        text-align: right;\n",
       "    }\n",
       "</style>\n",
       "<table border=\"1\" class=\"dataframe\">\n",
       "  <thead>\n",
       "    <tr style=\"text-align: right;\">\n",
       "      <th></th>\n",
       "      <th>Returns</th>\n",
       "    </tr>\n",
       "    <tr>\n",
       "      <th>Date</th>\n",
       "      <th></th>\n",
       "    </tr>\n",
       "  </thead>\n",
       "  <tbody>\n",
       "    <tr>\n",
       "      <th>2012-10-01</th>\n",
       "      <td>NaN</td>\n",
       "    </tr>\n",
       "    <tr>\n",
       "      <th>2012-10-02</th>\n",
       "      <td>0.001701</td>\n",
       "    </tr>\n",
       "    <tr>\n",
       "      <th>2012-10-03</th>\n",
       "      <td>-0.002563</td>\n",
       "    </tr>\n",
       "    <tr>\n",
       "      <th>2012-10-04</th>\n",
       "      <td>0.007137</td>\n",
       "    </tr>\n",
       "    <tr>\n",
       "      <th>2012-10-05</th>\n",
       "      <td>-0.002305</td>\n",
       "    </tr>\n",
       "  </tbody>\n",
       "</table>\n",
       "</div>"
      ],
      "text/plain": [
       "             Returns\n",
       "Date                \n",
       "2012-10-01       NaN\n",
       "2012-10-02  0.001701\n",
       "2012-10-03 -0.002563\n",
       "2012-10-04  0.007137\n",
       "2012-10-05 -0.002305"
      ]
     },
     "execution_count": 321,
     "metadata": {},
     "output_type": "execute_result"
    }
   ],
   "source": [
    "#Drop \"Close\" Columns\n",
    "sp_tsx_df = sp_tsx_df.drop(columns=[\"Close\"])\n",
    "sp_tsx_df.head()"
   ]
  },
  {
   "cell_type": "code",
   "execution_count": 322,
   "metadata": {},
   "outputs": [
    {
     "data": {
      "text/html": [
       "<div>\n",
       "<style scoped>\n",
       "    .dataframe tbody tr th:only-of-type {\n",
       "        vertical-align: middle;\n",
       "    }\n",
       "\n",
       "    .dataframe tbody tr th {\n",
       "        vertical-align: top;\n",
       "    }\n",
       "\n",
       "    .dataframe thead th {\n",
       "        text-align: right;\n",
       "    }\n",
       "</style>\n",
       "<table border=\"1\" class=\"dataframe\">\n",
       "  <thead>\n",
       "    <tr style=\"text-align: right;\">\n",
       "      <th></th>\n",
       "      <th>Returns</th>\n",
       "    </tr>\n",
       "    <tr>\n",
       "      <th>Date</th>\n",
       "      <th></th>\n",
       "    </tr>\n",
       "  </thead>\n",
       "  <tbody>\n",
       "    <tr>\n",
       "      <th>2012-10-02</th>\n",
       "      <td>0.001701</td>\n",
       "    </tr>\n",
       "    <tr>\n",
       "      <th>2012-10-03</th>\n",
       "      <td>-0.002563</td>\n",
       "    </tr>\n",
       "    <tr>\n",
       "      <th>2012-10-04</th>\n",
       "      <td>0.007137</td>\n",
       "    </tr>\n",
       "    <tr>\n",
       "      <th>2012-10-05</th>\n",
       "      <td>-0.002305</td>\n",
       "    </tr>\n",
       "    <tr>\n",
       "      <th>2012-10-09</th>\n",
       "      <td>-0.011709</td>\n",
       "    </tr>\n",
       "  </tbody>\n",
       "</table>\n",
       "</div>"
      ],
      "text/plain": [
       "             Returns\n",
       "Date                \n",
       "2012-10-02  0.001701\n",
       "2012-10-03 -0.002563\n",
       "2012-10-04  0.007137\n",
       "2012-10-05 -0.002305\n",
       "2012-10-09 -0.011709"
      ]
     },
     "execution_count": 322,
     "metadata": {},
     "output_type": "execute_result"
    }
   ],
   "source": [
    "# Drop nulls\n",
    "sp_tsx_df.dropna(inplace=True)\n",
    "sp_tsx_df.head()"
   ]
  },
  {
   "cell_type": "code",
   "execution_count": 323,
   "metadata": {},
   "outputs": [],
   "source": [
    "# Rename `Close` Column to be specific to this portfolio.\n"
   ]
  },
  {
   "cell_type": "code",
   "execution_count": 324,
   "metadata": {},
   "outputs": [
    {
     "data": {
      "text/html": [
       "<div>\n",
       "<style scoped>\n",
       "    .dataframe tbody tr th:only-of-type {\n",
       "        vertical-align: middle;\n",
       "    }\n",
       "\n",
       "    .dataframe tbody tr th {\n",
       "        vertical-align: top;\n",
       "    }\n",
       "\n",
       "    .dataframe thead th {\n",
       "        text-align: right;\n",
       "    }\n",
       "</style>\n",
       "<table border=\"1\" class=\"dataframe\">\n",
       "  <thead>\n",
       "    <tr style=\"text-align: right;\">\n",
       "      <th></th>\n",
       "      <th>SP_TSX</th>\n",
       "    </tr>\n",
       "    <tr>\n",
       "      <th>Date</th>\n",
       "      <th></th>\n",
       "    </tr>\n",
       "  </thead>\n",
       "  <tbody>\n",
       "    <tr>\n",
       "      <th>2012-10-02</th>\n",
       "      <td>0.001701</td>\n",
       "    </tr>\n",
       "    <tr>\n",
       "      <th>2012-10-03</th>\n",
       "      <td>-0.002563</td>\n",
       "    </tr>\n",
       "    <tr>\n",
       "      <th>2012-10-04</th>\n",
       "      <td>0.007137</td>\n",
       "    </tr>\n",
       "    <tr>\n",
       "      <th>2012-10-05</th>\n",
       "      <td>-0.002305</td>\n",
       "    </tr>\n",
       "    <tr>\n",
       "      <th>2012-10-09</th>\n",
       "      <td>-0.011709</td>\n",
       "    </tr>\n",
       "  </tbody>\n",
       "</table>\n",
       "</div>"
      ],
      "text/plain": [
       "              SP_TSX\n",
       "Date                \n",
       "2012-10-02  0.001701\n",
       "2012-10-03 -0.002563\n",
       "2012-10-04  0.007137\n",
       "2012-10-05 -0.002305\n",
       "2012-10-09 -0.011709"
      ]
     },
     "execution_count": 324,
     "metadata": {},
     "output_type": "execute_result"
    }
   ],
   "source": [
    "#rename column names as a dictionary\n",
    "sp_tsx_df = sp_tsx_df.rename(columns={'Returns':'SP_TSX'})\n",
    "sp_tsx_df.head()"
   ]
  },
  {
   "cell_type": "markdown",
   "metadata": {},
   "source": [
    "## Combine Whale, Algorithmic, and S&P TSX 60 Returns"
   ]
  },
  {
   "cell_type": "code",
   "execution_count": 325,
   "metadata": {},
   "outputs": [],
   "source": [
    "# Join Whale Returns, Algorithmic Returns, and the S&P TSX 60 Returns into a single DataFrame with columns for each portfolio's returns.\n",
    "\n",
    "allreturns_df = pd.concat([whale_df, sp_tsx_df, algo_df], axis=\"columns\", join=\"inner\")\n",
    "allreturns_df\n",
    "#allreturns_df_base for use later...\n",
    "allreturns_df_base = allreturns_df\n",
    "allreturns_df_base.index = pd.to_datetime(allreturns_df_base.index, format = '%m/%d/%Y').strftime('%Y-%m-%d')\n"
   ]
  },
  {
   "cell_type": "code",
   "execution_count": 326,
   "metadata": {},
   "outputs": [
    {
     "data": {
      "text/html": [
       "<div>\n",
       "<style scoped>\n",
       "    .dataframe tbody tr th:only-of-type {\n",
       "        vertical-align: middle;\n",
       "    }\n",
       "\n",
       "    .dataframe tbody tr th {\n",
       "        vertical-align: top;\n",
       "    }\n",
       "\n",
       "    .dataframe thead th {\n",
       "        text-align: right;\n",
       "    }\n",
       "</style>\n",
       "<table border=\"1\" class=\"dataframe\">\n",
       "  <thead>\n",
       "    <tr style=\"text-align: right;\">\n",
       "      <th></th>\n",
       "      <th>SOROS FUND MANAGEMENT LLC</th>\n",
       "      <th>PAULSON &amp; CO.INC.</th>\n",
       "      <th>TIGER GLOBAL MANAGEMENT LLC</th>\n",
       "      <th>BERKSHIRE HATHAWAY INC</th>\n",
       "      <th>SP_TSX</th>\n",
       "      <th>Algo 1</th>\n",
       "      <th>Algo 2</th>\n",
       "    </tr>\n",
       "    <tr>\n",
       "      <th>Date</th>\n",
       "      <th></th>\n",
       "      <th></th>\n",
       "      <th></th>\n",
       "      <th></th>\n",
       "      <th></th>\n",
       "      <th></th>\n",
       "      <th></th>\n",
       "    </tr>\n",
       "  </thead>\n",
       "  <tbody>\n",
       "    <tr>\n",
       "      <th>2015-03-03</th>\n",
       "      <td>-0.001266</td>\n",
       "      <td>-0.004981</td>\n",
       "      <td>-0.000496</td>\n",
       "      <td>-0.006569</td>\n",
       "      <td>-0.008530</td>\n",
       "      <td>-0.001942</td>\n",
       "      <td>-0.000949</td>\n",
       "    </tr>\n",
       "    <tr>\n",
       "      <th>2015-03-04</th>\n",
       "      <td>0.002230</td>\n",
       "      <td>0.003241</td>\n",
       "      <td>-0.002534</td>\n",
       "      <td>0.004213</td>\n",
       "      <td>-0.003371</td>\n",
       "      <td>-0.008589</td>\n",
       "      <td>0.002416</td>\n",
       "    </tr>\n",
       "    <tr>\n",
       "      <th>2015-03-05</th>\n",
       "      <td>0.004016</td>\n",
       "      <td>0.004076</td>\n",
       "      <td>0.002355</td>\n",
       "      <td>0.006726</td>\n",
       "      <td>0.001344</td>\n",
       "      <td>-0.000955</td>\n",
       "      <td>0.004323</td>\n",
       "    </tr>\n",
       "    <tr>\n",
       "      <th>2015-03-06</th>\n",
       "      <td>-0.007905</td>\n",
       "      <td>-0.003574</td>\n",
       "      <td>-0.008481</td>\n",
       "      <td>-0.013098</td>\n",
       "      <td>-0.009972</td>\n",
       "      <td>-0.004957</td>\n",
       "      <td>-0.011460</td>\n",
       "    </tr>\n",
       "    <tr>\n",
       "      <th>2015-03-09</th>\n",
       "      <td>0.000582</td>\n",
       "      <td>0.004225</td>\n",
       "      <td>0.005843</td>\n",
       "      <td>-0.001652</td>\n",
       "      <td>-0.006555</td>\n",
       "      <td>-0.005447</td>\n",
       "      <td>0.001303</td>\n",
       "    </tr>\n",
       "    <tr>\n",
       "      <th>...</th>\n",
       "      <td>...</td>\n",
       "      <td>...</td>\n",
       "      <td>...</td>\n",
       "      <td>...</td>\n",
       "      <td>...</td>\n",
       "      <td>...</td>\n",
       "      <td>...</td>\n",
       "    </tr>\n",
       "    <tr>\n",
       "      <th>2019-04-25</th>\n",
       "      <td>-0.000285</td>\n",
       "      <td>-0.001291</td>\n",
       "      <td>-0.005153</td>\n",
       "      <td>0.004848</td>\n",
       "      <td>-0.000628</td>\n",
       "      <td>0.000682</td>\n",
       "      <td>-0.007247</td>\n",
       "    </tr>\n",
       "    <tr>\n",
       "      <th>2019-04-26</th>\n",
       "      <td>0.008149</td>\n",
       "      <td>0.009162</td>\n",
       "      <td>0.012355</td>\n",
       "      <td>0.010434</td>\n",
       "      <td>0.002254</td>\n",
       "      <td>0.002981</td>\n",
       "      <td>0.005256</td>\n",
       "    </tr>\n",
       "    <tr>\n",
       "      <th>2019-04-29</th>\n",
       "      <td>0.001254</td>\n",
       "      <td>0.002719</td>\n",
       "      <td>0.006251</td>\n",
       "      <td>0.005223</td>\n",
       "      <td>-0.000788</td>\n",
       "      <td>0.005208</td>\n",
       "      <td>0.002829</td>\n",
       "    </tr>\n",
       "    <tr>\n",
       "      <th>2019-04-30</th>\n",
       "      <td>-0.001295</td>\n",
       "      <td>-0.002211</td>\n",
       "      <td>-0.000259</td>\n",
       "      <td>-0.003702</td>\n",
       "      <td>-0.001183</td>\n",
       "      <td>-0.002944</td>\n",
       "      <td>-0.001570</td>\n",
       "    </tr>\n",
       "    <tr>\n",
       "      <th>2019-05-01</th>\n",
       "      <td>-0.005847</td>\n",
       "      <td>-0.001341</td>\n",
       "      <td>-0.007936</td>\n",
       "      <td>-0.007833</td>\n",
       "      <td>-0.004703</td>\n",
       "      <td>0.000094</td>\n",
       "      <td>-0.007358</td>\n",
       "    </tr>\n",
       "  </tbody>\n",
       "</table>\n",
       "<p>1029 rows × 7 columns</p>\n",
       "</div>"
      ],
      "text/plain": [
       "            SOROS FUND MANAGEMENT LLC  PAULSON & CO.INC.   \\\n",
       "Date                                                        \n",
       "2015-03-03                  -0.001266           -0.004981   \n",
       "2015-03-04                   0.002230            0.003241   \n",
       "2015-03-05                   0.004016            0.004076   \n",
       "2015-03-06                  -0.007905           -0.003574   \n",
       "2015-03-09                   0.000582            0.004225   \n",
       "...                               ...                 ...   \n",
       "2019-04-25                  -0.000285           -0.001291   \n",
       "2019-04-26                   0.008149            0.009162   \n",
       "2019-04-29                   0.001254            0.002719   \n",
       "2019-04-30                  -0.001295           -0.002211   \n",
       "2019-05-01                  -0.005847           -0.001341   \n",
       "\n",
       "            TIGER GLOBAL MANAGEMENT LLC  BERKSHIRE HATHAWAY INC    SP_TSX  \\\n",
       "Date                                                                        \n",
       "2015-03-03                    -0.000496               -0.006569 -0.008530   \n",
       "2015-03-04                    -0.002534                0.004213 -0.003371   \n",
       "2015-03-05                     0.002355                0.006726  0.001344   \n",
       "2015-03-06                    -0.008481               -0.013098 -0.009972   \n",
       "2015-03-09                     0.005843               -0.001652 -0.006555   \n",
       "...                                 ...                     ...       ...   \n",
       "2019-04-25                    -0.005153                0.004848 -0.000628   \n",
       "2019-04-26                     0.012355                0.010434  0.002254   \n",
       "2019-04-29                     0.006251                0.005223 -0.000788   \n",
       "2019-04-30                    -0.000259               -0.003702 -0.001183   \n",
       "2019-05-01                    -0.007936               -0.007833 -0.004703   \n",
       "\n",
       "              Algo 1    Algo 2  \n",
       "Date                            \n",
       "2015-03-03 -0.001942 -0.000949  \n",
       "2015-03-04 -0.008589  0.002416  \n",
       "2015-03-05 -0.000955  0.004323  \n",
       "2015-03-06 -0.004957 -0.011460  \n",
       "2015-03-09 -0.005447  0.001303  \n",
       "...              ...       ...  \n",
       "2019-04-25  0.000682 -0.007247  \n",
       "2019-04-26  0.002981  0.005256  \n",
       "2019-04-29  0.005208  0.002829  \n",
       "2019-04-30 -0.002944 -0.001570  \n",
       "2019-05-01  0.000094 -0.007358  \n",
       "\n",
       "[1029 rows x 7 columns]"
      ]
     },
     "execution_count": 326,
     "metadata": {},
     "output_type": "execute_result"
    }
   ],
   "source": [
    "#drop Nulls\n",
    "allreturns_df.dropna(inplace=True)\n",
    "allreturns_df"
   ]
  },
  {
   "cell_type": "code",
   "execution_count": 327,
   "metadata": {},
   "outputs": [],
   "source": [
    "#reformat date\n"
   ]
  },
  {
   "cell_type": "raw",
   "metadata": {},
   "source": [
    "---"
   ]
  },
  {
   "cell_type": "markdown",
   "metadata": {},
   "source": [
    "# Conduct Quantitative Analysis\n",
    "\n",
    "In this section, you will calculate and visualize performance and risk metrics for the portfolios."
   ]
  },
  {
   "cell_type": "markdown",
   "metadata": {},
   "source": [
    "## Performance Anlysis\n",
    "\n",
    "#### Calculate and Plot the daily returns."
   ]
  },
  {
   "cell_type": "code",
   "execution_count": 328,
   "metadata": {},
   "outputs": [
    {
     "data": {
      "text/plain": [
       "<AxesSubplot:xlabel='Date'>"
      ]
     },
     "execution_count": 328,
     "metadata": {},
     "output_type": "execute_result"
    },
    {
     "data": {
      "image/png": "[encoded data removed]",
      "text/plain": [
       "<Figure size 432x288 with 1 Axes>"
      ]
     },
     "metadata": {
      "needs_background": "light"
     },
     "output_type": "display_data"
    }
   ],
   "source": [
    "# Plot daily returns of all portfolios\n",
    "allreturns_df.plot()"
   ]
  },
  {
   "cell_type": "markdown",
   "metadata": {},
   "source": [
    "#### Calculate and Plot cumulative returns."
   ]
  },
  {
   "cell_type": "code",
   "execution_count": 329,
   "metadata": {},
   "outputs": [
    {
     "data": {
      "text/plain": [
       "<AxesSubplot:title={'center':'Cumulative Returns of All Portfolios'}, xlabel='Date'>"
      ]
     },
     "execution_count": 329,
     "metadata": {},
     "output_type": "execute_result"
    },
    {
     "data": {
      "image/png": "[encoded data removed]",
      "text/plain": [
       "<Figure size 720x360 with 1 Axes>"
      ]
     },
     "metadata": {
      "needs_background": "light"
     },
     "output_type": "display_data"
    }
   ],
   "source": [
    "# Calculate cumulative returns of all portfolios\n",
    "cumulative_returns = ((1 + allreturns_df).cumprod() - 1)*100\n",
    "\n",
    "# Plot cumulative returns\n",
    "cumulative_returns.plot(figsize=(10,5), title=\"Cumulative Returns of All Portfolios\")"
   ]
  },
  {
   "cell_type": "markdown",
   "metadata": {},
   "source": [
    "---"
   ]
  },
  {
   "cell_type": "markdown",
   "metadata": {},
   "source": [
    "## Risk Analysis\n",
    "\n",
    "Determine the _risk_ of each portfolio:\n",
    "\n",
    "1. Create a box plot for each portfolio. \n",
    "2. Calculate the standard deviation for all portfolios.\n",
    "4. Determine which portfolios are riskier than the S&P TSX 60.\n",
    "5. Calculate the Annualized Standard Deviation."
   ]
  },
  {
   "cell_type": "markdown",
   "metadata": {},
   "source": [
    "### Create a box plot for each portfolio\n"
   ]
  },
  {
   "cell_type": "code",
   "execution_count": 330,
   "metadata": {},
   "outputs": [
    {
     "data": {
      "text/plain": [
       "<AxesSubplot:title={'center':'portfolio Risk'}>"
      ]
     },
     "execution_count": 330,
     "metadata": {},
     "output_type": "execute_result"
    },
    {
     "data": {
      "image/png": "[encoded data removed]",
      "text/plain": [
       "<Figure size 1440x720 with 1 Axes>"
      ]
     },
     "metadata": {
      "needs_background": "light"
     },
     "output_type": "display_data"
    }
   ],
   "source": [
    "# Box plot to visually show risk\n",
    "allreturns_df.plot(kind =\"box\", title=\"portfolio Risk\", figsize = (20,10))\n"
   ]
  },
  {
   "cell_type": "markdown",
   "metadata": {},
   "source": [
    "### Calculate Standard Deviations"
   ]
  },
  {
   "cell_type": "code",
   "execution_count": 331,
   "metadata": {},
   "outputs": [
    {
     "name": "stdout",
     "output_type": "stream",
     "text": [
      "SOROS FUND MANAGEMENT LLC      0.007828\n",
      "PAULSON & CO.INC.              0.006982\n",
      "TIGER GLOBAL MANAGEMENT LLC    0.010883\n",
      "BERKSHIRE HATHAWAY INC         0.012826\n",
      "SP_TSX                         0.007034\n",
      "Algo 1                         0.007589\n",
      "Algo 2                         0.008326\n",
      "dtype: float64\n"
     ]
    }
   ],
   "source": [
    "# Calculate the daily standard deviations of all portfolios\n",
    "allreturns_std = allreturns_df.std()\n",
    "allreturns_std.head()\n",
    "print(allreturns_std)"
   ]
  },
  {
   "cell_type": "code",
   "execution_count": null,
   "metadata": {},
   "outputs": [],
   "source": []
  },
  {
   "cell_type": "code",
   "execution_count": 332,
   "metadata": {},
   "outputs": [
    {
     "data": {
      "text/html": [
       "<div>\n",
       "<style scoped>\n",
       "    .dataframe tbody tr th:only-of-type {\n",
       "        vertical-align: middle;\n",
       "    }\n",
       "\n",
       "    .dataframe tbody tr th {\n",
       "        vertical-align: top;\n",
       "    }\n",
       "\n",
       "    .dataframe thead th {\n",
       "        text-align: right;\n",
       "    }\n",
       "</style>\n",
       "<table border=\"1\" class=\"dataframe\">\n",
       "  <thead>\n",
       "    <tr style=\"text-align: right;\">\n",
       "      <th></th>\n",
       "      <th>StdDev</th>\n",
       "    </tr>\n",
       "  </thead>\n",
       "  <tbody>\n",
       "    <tr>\n",
       "      <th>SOROS FUND MANAGEMENT LLC</th>\n",
       "      <td>0.007828</td>\n",
       "    </tr>\n",
       "    <tr>\n",
       "      <th>PAULSON &amp; CO.INC.</th>\n",
       "      <td>0.006982</td>\n",
       "    </tr>\n",
       "    <tr>\n",
       "      <th>TIGER GLOBAL MANAGEMENT LLC</th>\n",
       "      <td>0.010883</td>\n",
       "    </tr>\n",
       "    <tr>\n",
       "      <th>BERKSHIRE HATHAWAY INC</th>\n",
       "      <td>0.012826</td>\n",
       "    </tr>\n",
       "    <tr>\n",
       "      <th>SP_TSX</th>\n",
       "      <td>0.007034</td>\n",
       "    </tr>\n",
       "  </tbody>\n",
       "</table>\n",
       "</div>"
      ],
      "text/plain": [
       "                               StdDev\n",
       "SOROS FUND MANAGEMENT LLC    0.007828\n",
       "PAULSON & CO.INC.            0.006982\n",
       "TIGER GLOBAL MANAGEMENT LLC  0.010883\n",
       "BERKSHIRE HATHAWAY INC       0.012826\n",
       "SP_TSX                       0.007034"
      ]
     },
     "execution_count": 332,
     "metadata": {},
     "output_type": "execute_result"
    }
   ],
   "source": [
    "#Convert series to dataframe\n",
    "allreturns_std = pd.DataFrame(allreturns_std)\n",
    "\n",
    "#Name columns\n",
    "col_names = [\"StdDev\"]\n",
    "allreturns_std.columns = col_names\n",
    "allreturns_std.head()"
   ]
  },
  {
   "cell_type": "code",
   "execution_count": 333,
   "metadata": {},
   "outputs": [
    {
     "data": {
      "text/html": [
       "<div>\n",
       "<style scoped>\n",
       "    .dataframe tbody tr th:only-of-type {\n",
       "        vertical-align: middle;\n",
       "    }\n",
       "\n",
       "    .dataframe tbody tr th {\n",
       "        vertical-align: top;\n",
       "    }\n",
       "\n",
       "    .dataframe thead th {\n",
       "        text-align: right;\n",
       "    }\n",
       "</style>\n",
       "<table border=\"1\" class=\"dataframe\">\n",
       "  <thead>\n",
       "    <tr style=\"text-align: right;\">\n",
       "      <th></th>\n",
       "      <th>StdDev</th>\n",
       "    </tr>\n",
       "  </thead>\n",
       "  <tbody>\n",
       "    <tr>\n",
       "      <th>SOROS FUND MANAGEMENT LLC</th>\n",
       "      <td>0.007828</td>\n",
       "    </tr>\n",
       "    <tr>\n",
       "      <th>PAULSON &amp; CO.INC.</th>\n",
       "      <td>0.006982</td>\n",
       "    </tr>\n",
       "    <tr>\n",
       "      <th>TIGER GLOBAL MANAGEMENT LLC</th>\n",
       "      <td>0.010883</td>\n",
       "    </tr>\n",
       "    <tr>\n",
       "      <th>BERKSHIRE HATHAWAY INC</th>\n",
       "      <td>0.012826</td>\n",
       "    </tr>\n",
       "    <tr>\n",
       "      <th>SP_TSX</th>\n",
       "      <td>0.007034</td>\n",
       "    </tr>\n",
       "  </tbody>\n",
       "</table>\n",
       "</div>"
      ],
      "text/plain": [
       "                               StdDev\n",
       "SOROS FUND MANAGEMENT LLC    0.007828\n",
       "PAULSON & CO.INC.            0.006982\n",
       "TIGER GLOBAL MANAGEMENT LLC  0.010883\n",
       "BERKSHIRE HATHAWAY INC       0.012826\n",
       "SP_TSX                       0.007034"
      ]
     },
     "execution_count": 333,
     "metadata": {},
     "output_type": "execute_result"
    }
   ],
   "source": [
    "# Determine which portfolio is riskier than the S&P 500\n",
    "\n",
    "#Convert StdDev to Float\n",
    "allreturns_std[\"StdDev\"] = allreturns_std[\"StdDev\"].astype(float)\n",
    "allreturns_std.head()"
   ]
  },
  {
   "cell_type": "code",
   "execution_count": 334,
   "metadata": {},
   "outputs": [
    {
     "name": "stdout",
     "output_type": "stream",
     "text": [
      "0.007034167748577725\n"
     ]
    }
   ],
   "source": [
    "#Find the SP_TSX return\n",
    "SP_TSX_std = allreturns_std.loc['SP_TSX'][0]\n",
    "print(SP_TSX_std)"
   ]
  },
  {
   "cell_type": "code",
   "execution_count": 335,
   "metadata": {},
   "outputs": [
    {
     "data": {
      "text/plain": [
       "SOROS FUND MANAGEMENT LLC       True\n",
       "PAULSON & CO.INC.              False\n",
       "TIGER GLOBAL MANAGEMENT LLC     True\n",
       "BERKSHIRE HATHAWAY INC          True\n",
       "SP_TSX                         False\n",
       "Algo 1                          True\n",
       "Algo 2                          True\n",
       "Name: StdDev, dtype: bool"
      ]
     },
     "execution_count": 335,
     "metadata": {},
     "output_type": "execute_result"
    }
   ],
   "source": [
    "#Compare these values to others\n",
    "allreturns_std[\"StdDev\"] > SP_TSX_std\n"
   ]
  },
  {
   "cell_type": "code",
   "execution_count": 336,
   "metadata": {},
   "outputs": [
    {
     "data": {
      "text/html": [
       "<div>\n",
       "<style scoped>\n",
       "    .dataframe tbody tr th:only-of-type {\n",
       "        vertical-align: middle;\n",
       "    }\n",
       "\n",
       "    .dataframe tbody tr th {\n",
       "        vertical-align: top;\n",
       "    }\n",
       "\n",
       "    .dataframe thead th {\n",
       "        text-align: right;\n",
       "    }\n",
       "</style>\n",
       "<table border=\"1\" class=\"dataframe\">\n",
       "  <thead>\n",
       "    <tr style=\"text-align: right;\">\n",
       "      <th></th>\n",
       "      <th>StdDev</th>\n",
       "    </tr>\n",
       "  </thead>\n",
       "  <tbody>\n",
       "    <tr>\n",
       "      <th>BERKSHIRE HATHAWAY INC</th>\n",
       "      <td>0.012826</td>\n",
       "    </tr>\n",
       "    <tr>\n",
       "      <th>TIGER GLOBAL MANAGEMENT LLC</th>\n",
       "      <td>0.010883</td>\n",
       "    </tr>\n",
       "    <tr>\n",
       "      <th>Algo 2</th>\n",
       "      <td>0.008326</td>\n",
       "    </tr>\n",
       "    <tr>\n",
       "      <th>SOROS FUND MANAGEMENT LLC</th>\n",
       "      <td>0.007828</td>\n",
       "    </tr>\n",
       "    <tr>\n",
       "      <th>Algo 1</th>\n",
       "      <td>0.007589</td>\n",
       "    </tr>\n",
       "    <tr>\n",
       "      <th>SP_TSX</th>\n",
       "      <td>0.007034</td>\n",
       "    </tr>\n",
       "    <tr>\n",
       "      <th>PAULSON &amp; CO.INC.</th>\n",
       "      <td>0.006982</td>\n",
       "    </tr>\n",
       "  </tbody>\n",
       "</table>\n",
       "</div>"
      ],
      "text/plain": [
       "                               StdDev\n",
       "BERKSHIRE HATHAWAY INC       0.012826\n",
       "TIGER GLOBAL MANAGEMENT LLC  0.010883\n",
       "Algo 2                       0.008326\n",
       "SOROS FUND MANAGEMENT LLC    0.007828\n",
       "Algo 1                       0.007589\n",
       "SP_TSX                       0.007034\n",
       "PAULSON & CO.INC.            0.006982"
      ]
     },
     "execution_count": 336,
     "metadata": {},
     "output_type": "execute_result"
    }
   ],
   "source": [
    "# Sort into descending order: \n",
    "allreturns_std.sort_values(by='StdDev', ascending=False)"
   ]
  },
  {
   "cell_type": "code",
   "execution_count": 337,
   "metadata": {},
   "outputs": [],
   "source": [
    "# Calculate  the daily standard deviation of S&P TSX 60\n",
    "# SEE LINE 25"
   ]
  },
  {
   "cell_type": "markdown",
   "metadata": {},
   "source": [
    "### Calculate the Annualized Standard Deviation"
   ]
  },
  {
   "cell_type": "code",
   "execution_count": 338,
   "metadata": {},
   "outputs": [
    {
     "data": {
      "text/plain": [
       "StdDev    0.035259\n",
       "dtype: float64"
      ]
     },
     "execution_count": 338,
     "metadata": {},
     "output_type": "execute_result"
    }
   ],
   "source": [
    "# Calculate the annualized standard deviation (252 trading days)\n",
    "allreturns_std_annual = allreturns_std.std() * np.sqrt(252)\n",
    "allreturns_std_annual"
   ]
  },
  {
   "cell_type": "markdown",
   "metadata": {},
   "source": [
    "---"
   ]
  },
  {
   "cell_type": "markdown",
   "metadata": {},
   "source": [
    "## Rolling Statistics\n",
    "\n",
    "Risk changes over time. Analyze the rolling statistics for Risk and Beta. \n",
    "\n",
    "1. Calculate and plot the rolling standard deviation for for all portfolios using a 21-day window.\n",
    "2. Calculate the correlation between each stock to determine which portfolios may mimick the S&P TSX 60.\n",
    "3. Choose one portfolio, then calculate and plot the 60-day rolling beta for it and the S&P TSX 60."
   ]
  },
  {
   "cell_type": "markdown",
   "metadata": {},
   "source": [
    "### Calculate and plot rolling `std` for all portfolios with 21-day window"
   ]
  },
  {
   "cell_type": "code",
   "execution_count": 339,
   "metadata": {},
   "outputs": [
    {
     "data": {
      "text/plain": [
       "<AxesSubplot:xlabel='Date'>"
      ]
     },
     "execution_count": 339,
     "metadata": {},
     "output_type": "execute_result"
    },
    {
     "data": {
      "image/png": "[encoded data removed]",
      "text/plain": [
       "<Figure size 432x288 with 1 Axes>"
      ]
     },
     "metadata": {
      "needs_background": "light"
     },
     "output_type": "display_data"
    }
   ],
   "source": [
    "# Calculate the rolling standard deviation for all portfolios using a 21-day window\n",
    "\n",
    "# Plot the rolling standard deviation\n",
    "allreturns_df.rolling(window=21).std().plot()"
   ]
  },
  {
   "cell_type": "markdown",
   "metadata": {},
   "source": [
    "### Calculate and plot the correlation"
   ]
  },
  {
   "cell_type": "code",
   "execution_count": 340,
   "metadata": {},
   "outputs": [
    {
     "data": {
      "text/html": [
       "<div>\n",
       "<style scoped>\n",
       "    .dataframe tbody tr th:only-of-type {\n",
       "        vertical-align: middle;\n",
       "    }\n",
       "\n",
       "    .dataframe tbody tr th {\n",
       "        vertical-align: top;\n",
       "    }\n",
       "\n",
       "    .dataframe thead th {\n",
       "        text-align: right;\n",
       "    }\n",
       "</style>\n",
       "<table border=\"1\" class=\"dataframe\">\n",
       "  <thead>\n",
       "    <tr style=\"text-align: right;\">\n",
       "      <th></th>\n",
       "      <th>SOROS FUND MANAGEMENT LLC</th>\n",
       "      <th>PAULSON &amp; CO.INC.</th>\n",
       "      <th>TIGER GLOBAL MANAGEMENT LLC</th>\n",
       "      <th>BERKSHIRE HATHAWAY INC</th>\n",
       "      <th>SP_TSX</th>\n",
       "      <th>Algo 1</th>\n",
       "      <th>Algo 2</th>\n",
       "    </tr>\n",
       "  </thead>\n",
       "  <tbody>\n",
       "    <tr>\n",
       "      <th>SOROS FUND MANAGEMENT LLC</th>\n",
       "      <td>1.000000</td>\n",
       "      <td>0.697076</td>\n",
       "      <td>0.560964</td>\n",
       "      <td>0.750181</td>\n",
       "      <td>0.673930</td>\n",
       "      <td>0.313795</td>\n",
       "      <td>0.826667</td>\n",
       "    </tr>\n",
       "    <tr>\n",
       "      <th>PAULSON &amp; CO.INC.</th>\n",
       "      <td>0.697076</td>\n",
       "      <td>1.000000</td>\n",
       "      <td>0.433034</td>\n",
       "      <td>0.540033</td>\n",
       "      <td>0.486511</td>\n",
       "      <td>0.266363</td>\n",
       "      <td>0.674015</td>\n",
       "    </tr>\n",
       "    <tr>\n",
       "      <th>TIGER GLOBAL MANAGEMENT LLC</th>\n",
       "      <td>0.560964</td>\n",
       "      <td>0.433034</td>\n",
       "      <td>1.000000</td>\n",
       "      <td>0.423524</td>\n",
       "      <td>0.440583</td>\n",
       "      <td>0.161236</td>\n",
       "      <td>0.506689</td>\n",
       "    </tr>\n",
       "    <tr>\n",
       "      <th>BERKSHIRE HATHAWAY INC</th>\n",
       "      <td>0.750181</td>\n",
       "      <td>0.540033</td>\n",
       "      <td>0.423524</td>\n",
       "      <td>1.000000</td>\n",
       "      <td>0.557250</td>\n",
       "      <td>0.289378</td>\n",
       "      <td>0.684609</td>\n",
       "    </tr>\n",
       "    <tr>\n",
       "      <th>SP_TSX</th>\n",
       "      <td>0.673930</td>\n",
       "      <td>0.486511</td>\n",
       "      <td>0.440583</td>\n",
       "      <td>0.557250</td>\n",
       "      <td>1.000000</td>\n",
       "      <td>0.310276</td>\n",
       "      <td>0.737370</td>\n",
       "    </tr>\n",
       "    <tr>\n",
       "      <th>Algo 1</th>\n",
       "      <td>0.313795</td>\n",
       "      <td>0.266363</td>\n",
       "      <td>0.161236</td>\n",
       "      <td>0.289378</td>\n",
       "      <td>0.310276</td>\n",
       "      <td>1.000000</td>\n",
       "      <td>0.285455</td>\n",
       "    </tr>\n",
       "    <tr>\n",
       "      <th>Algo 2</th>\n",
       "      <td>0.826667</td>\n",
       "      <td>0.674015</td>\n",
       "      <td>0.506689</td>\n",
       "      <td>0.684609</td>\n",
       "      <td>0.737370</td>\n",
       "      <td>0.285455</td>\n",
       "      <td>1.000000</td>\n",
       "    </tr>\n",
       "  </tbody>\n",
       "</table>\n",
       "</div>"
      ],
      "text/plain": [
       "                             SOROS FUND MANAGEMENT LLC  PAULSON & CO.INC.   \\\n",
       "SOROS FUND MANAGEMENT LLC                     1.000000            0.697076   \n",
       "PAULSON & CO.INC.                             0.697076            1.000000   \n",
       "TIGER GLOBAL MANAGEMENT LLC                   0.560964            0.433034   \n",
       "BERKSHIRE HATHAWAY INC                        0.750181            0.540033   \n",
       "SP_TSX                                        0.673930            0.486511   \n",
       "Algo 1                                        0.313795            0.266363   \n",
       "Algo 2                                        0.826667            0.674015   \n",
       "\n",
       "                             TIGER GLOBAL MANAGEMENT LLC  \\\n",
       "SOROS FUND MANAGEMENT LLC                       0.560964   \n",
       "PAULSON & CO.INC.                               0.433034   \n",
       "TIGER GLOBAL MANAGEMENT LLC                     1.000000   \n",
       "BERKSHIRE HATHAWAY INC                          0.423524   \n",
       "SP_TSX                                          0.440583   \n",
       "Algo 1                                          0.161236   \n",
       "Algo 2                                          0.506689   \n",
       "\n",
       "                             BERKSHIRE HATHAWAY INC    SP_TSX    Algo 1  \\\n",
       "SOROS FUND MANAGEMENT LLC                  0.750181  0.673930  0.313795   \n",
       "PAULSON & CO.INC.                          0.540033  0.486511  0.266363   \n",
       "TIGER GLOBAL MANAGEMENT LLC                0.423524  0.440583  0.161236   \n",
       "BERKSHIRE HATHAWAY INC                     1.000000  0.557250  0.289378   \n",
       "SP_TSX                                     0.557250  1.000000  0.310276   \n",
       "Algo 1                                     0.289378  0.310276  1.000000   \n",
       "Algo 2                                     0.684609  0.737370  0.285455   \n",
       "\n",
       "                               Algo 2  \n",
       "SOROS FUND MANAGEMENT LLC    0.826667  \n",
       "PAULSON & CO.INC.            0.674015  \n",
       "TIGER GLOBAL MANAGEMENT LLC  0.506689  \n",
       "BERKSHIRE HATHAWAY INC       0.684609  \n",
       "SP_TSX                       0.737370  \n",
       "Algo 1                       0.285455  \n",
       "Algo 2                       1.000000  "
      ]
     },
     "execution_count": 340,
     "metadata": {},
     "output_type": "execute_result"
    }
   ],
   "source": [
    "# Calculate the correlation\n",
    "correlation = allreturns_df.corr()\n",
    "# Display de correlation matrix\n",
    "correlation"
   ]
  },
  {
   "cell_type": "markdown",
   "metadata": {},
   "source": [
    "### Calculate and Plot Beta for a chosen portfolio and the S&P 60 TSX"
   ]
  },
  {
   "cell_type": "code",
   "execution_count": 341,
   "metadata": {},
   "outputs": [
    {
     "data": {
      "text/plain": [
       "0.026910114679255637"
      ]
     },
     "execution_count": 341,
     "metadata": {},
     "output_type": "execute_result"
    }
   ],
   "source": [
    "# Calculate covariance of a single portfolio.  Choose one portfolio, then calculate and plot the 60-day rolling beta for it and the S&P TSX 60.\n",
    "\n",
    "#CALCULATE for Soros\n",
    "covariance = correlation['SP_TSX'].cov(correlation['SOROS FUND MANAGEMENT LLC'])\n",
    "covariance"
   ]
  },
  {
   "cell_type": "code",
   "execution_count": 342,
   "metadata": {},
   "outputs": [
    {
     "data": {
      "text/plain": [
       "4.9479515915131015e-05"
      ]
     },
     "execution_count": 342,
     "metadata": {},
     "output_type": "execute_result"
    }
   ],
   "source": [
    "# Calculate variance of S&P TSX\n",
    "variance = allreturns_df['SP_TSX'].var()\n",
    "variance"
   ]
  },
  {
   "cell_type": "code",
   "execution_count": 343,
   "metadata": {},
   "outputs": [
    {
     "data": {
      "text/plain": [
       "543.8637420263528"
      ]
     },
     "execution_count": 343,
     "metadata": {},
     "output_type": "execute_result"
    }
   ],
   "source": [
    "# Computing beta\n",
    "S_P_beta = covariance / variance\n",
    "S_P_beta"
   ]
  },
  {
   "cell_type": "code",
   "execution_count": 344,
   "metadata": {},
   "outputs": [
    {
     "data": {
      "text/plain": [
       "<AxesSubplot:title={'center':'Rolling 60-Day Beta of George Soros Fund vs SP_TSX 60'}, xlabel='Date'>"
      ]
     },
     "execution_count": 344,
     "metadata": {},
     "output_type": "execute_result"
    },
    {
     "data": {
      "image/png": "[encoded data removed]",
      "text/plain": [
       "<Figure size 1440x720 with 1 Axes>"
      ]
     },
     "metadata": {
      "needs_background": "light"
     },
     "output_type": "display_data"
    }
   ],
   "source": [
    "# Plot beta trend of Soros vs. SP_TSX. Since: rolling_beta = rolling_covariance / rolling_variance\n",
    "rolling_SOROS_covariance = allreturns_df['SOROS FUND MANAGEMENT LLC'].rolling(window=60).cov(allreturns_df['SP_TSX'])\n",
    "rolling_TSX_variance = allreturns_df['SP_TSX'].rolling(window=60).var()\n",
    "\n",
    "rolling_SOROS_beta = rolling_SOROS_covariance / rolling_TSX_variance\n",
    "rolling_SOROS_beta.plot(figsize=(20, 10), title='Rolling 60-Day Beta of George Soros Fund vs SP_TSX 60')\n",
    "\n"
   ]
  },
  {
   "cell_type": "code",
   "execution_count": null,
   "metadata": {},
   "outputs": [],
   "source": []
  },
  {
   "cell_type": "markdown",
   "metadata": {},
   "source": [
    "## Rolling Statistics Challenge: Exponentially Weighted Average \n",
    "\n",
    "An alternative way to calculate a rolling window is to take the exponentially weighted moving average. This is like a moving window average, but it assigns greater importance to more recent observations. Try calculating the [`ewm`](https://pandas.pydata.org/pandas-docs/stable/reference/api/pandas.DataFrame.ewm.html) with a 21-day half-life."
   ]
  },
  {
   "cell_type": "code",
   "execution_count": 345,
   "metadata": {},
   "outputs": [
    {
     "data": {
      "text/plain": [
       "<AxesSubplot:title={'center':'Rolling 60-Day Beta of George Soros Fund vs SP_TSX 60'}, xlabel='Date'>"
      ]
     },
     "execution_count": 345,
     "metadata": {},
     "output_type": "execute_result"
    },
    {
     "data": {
      "image/png": "[encoded data removed]",
      "text/plain": [
       "<Figure size 1440x720 with 1 Axes>"
      ]
     },
     "metadata": {
      "needs_background": "light"
     },
     "output_type": "display_data"
    }
   ],
   "source": [
    "# Use `ewm` to calculate the rolling window\n",
    "# Assume we are to calculate the EWM of Beta\n",
    "rolling_SOROS_beta = rolling_SOROS_beta.ewm(com=21).mean()\n",
    "rolling_SOROS_beta.plot(figsize=(20, 10), title='Rolling 60-Day Beta of George Soros Fund vs SP_TSX 60')\n"
   ]
  },
  {
   "cell_type": "markdown",
   "metadata": {},
   "source": [
    "---"
   ]
  },
  {
   "cell_type": "markdown",
   "metadata": {},
   "source": [
    "# Sharpe Ratios\n",
    "In reality, investment managers and thier institutional investors look at the ratio of return-to-risk, and not just returns alone. After all, if you could invest in one of two portfolios, and each offered the same 10% return, yet one offered lower risk, you'd take that one, right?\n",
    "\n",
    "### Using the daily returns, calculate and visualize the Sharpe ratios using a bar plot"
   ]
  },
  {
   "cell_type": "code",
   "execution_count": 346,
   "metadata": {},
   "outputs": [
    {
     "data": {
      "text/plain": [
       "SOROS FUND MANAGEMENT LLC      0.007828\n",
       "PAULSON & CO.INC.              0.006982\n",
       "TIGER GLOBAL MANAGEMENT LLC    0.010883\n",
       "BERKSHIRE HATHAWAY INC         0.012826\n",
       "SP_TSX                         0.007034\n",
       "dtype: float64"
      ]
     },
     "execution_count": 346,
     "metadata": {},
     "output_type": "execute_result"
    }
   ],
   "source": [
    "# Annualized Sharpe Ratios\n",
    "#allreturns_std\n",
    "allreturns_df_base\n",
    "# Calculate std dev\n",
    "all_portfolio_std_base = allreturns_df_base.std()\n",
    "all_portfolio_std_base.head()"
   ]
  },
  {
   "cell_type": "code",
   "execution_count": 347,
   "metadata": {},
   "outputs": [
    {
     "name": "stdout",
     "output_type": "stream",
     "text": [
      "SOROS FUND MANAGEMENT LLC      0.286709\n",
      "PAULSON & CO.INC.             -0.547594\n",
      "TIGER GLOBAL MANAGEMENT LLC   -0.144455\n",
      "BERKSHIRE HATHAWAY INC         0.467045\n",
      "SP_TSX                         0.195550\n",
      "Algo 1                         1.491514\n",
      "Algo 2                         0.396817\n",
      "dtype: float64\n"
     ]
    }
   ],
   "source": [
    "# Calculate sharpe ratio\n",
    "sharpe_ratios = (allreturns_df_base.mean() * 252) / (all_portfolio_std_base * np.sqrt(252))\n",
    "sharpe_ratios.head()\n",
    "print(sharpe_ratios)"
   ]
  },
  {
   "cell_type": "code",
   "execution_count": 348,
   "metadata": {},
   "outputs": [
    {
     "data": {
      "text/plain": [
       "<AxesSubplot:title={'center':'Sharpe Ratios'}>"
      ]
     },
     "execution_count": 348,
     "metadata": {},
     "output_type": "execute_result"
    },
    {
     "data": {
      "image/png": "[encoded data removed]",
      "text/plain": [
       "<Figure size 432x288 with 1 Axes>"
      ]
     },
     "metadata": {
      "needs_background": "light"
     },
     "output_type": "display_data"
    }
   ],
   "source": [
    "# Visualize the sharpe ratios as a bar plot\n",
    "sharpe_ratios.plot.bar(title=\"Sharpe Ratios\")\n"
   ]
  },
  {
   "cell_type": "code",
   "execution_count": 349,
   "metadata": {},
   "outputs": [
    {
     "data": {
      "text/plain": [
       "'Yes, the algo outperforms the S&P TSX 60'"
      ]
     },
     "execution_count": 349,
     "metadata": {},
     "output_type": "execute_result"
    }
   ],
   "source": [
    "#Determine whether the algorithmic strategies outperform both the market (S&P TSX 60) and the whales portfolios.\n",
    "\"Yes, the algo outperforms the S&P TSX 60\""
   ]
  },
  {
   "cell_type": "markdown",
   "metadata": {},
   "source": [
    "### Determine whether the algorithmic strategies outperform both the market (S&P TSX 60) and the whales portfolios.\n",
    "\n",
    "Write your answer here!"
   ]
  },
  {
   "cell_type": "markdown",
   "metadata": {},
   "source": [
    "---"
   ]
  },
  {
   "cell_type": "markdown",
   "metadata": {},
   "source": [
    "# Create Custom Portfolio\n",
    "\n",
    "In this section, you will build your own portfolio of stocks, calculate the returns, and compare the results to the Whale Portfolios and the S&P TSX 60. \n",
    "\n",
    "1. Choose 3-5 custom stocks with at last 1 year's worth of historic prices and create a DataFrame of the closing prices and dates for each stock.\n",
    "2. Calculate the weighted returns for the portfolio assuming an equal number of shares for each stock.\n",
    "3. Join your portfolio returns to the DataFrame that contains all of the portfolio returns.\n",
    "4. Re-run the performance and risk analysis with your portfolio to see how it compares to the others.\n",
    "5. Include correlation analysis to determine which stocks (if any) are correlated."
   ]
  },
  {
   "cell_type": "markdown",
   "metadata": {},
   "source": [
    "## Choose 3-5 custom stocks with at last 1 year's worth of historic prices and create a DataFrame of the closing prices and dates for each stock."
   ]
  },
  {
   "cell_type": "code",
   "execution_count": 350,
   "metadata": {},
   "outputs": [],
   "source": [
    "#Look up [\"SHOP\",\"TSLA\",\"PFE\",\"ENB\",\"SPY\"]\n",
    "# Reading data from 2nd stock\n",
    "# Reading data from 3rd stock"
   ]
  },
  {
   "cell_type": "code",
   "execution_count": 351,
   "metadata": {},
   "outputs": [
    {
     "data": {
      "text/html": [
       "<div>\n",
       "<style scoped>\n",
       "    .dataframe tbody tr th:only-of-type {\n",
       "        vertical-align: middle;\n",
       "    }\n",
       "\n",
       "    .dataframe tbody tr th {\n",
       "        vertical-align: top;\n",
       "    }\n",
       "\n",
       "    .dataframe thead th {\n",
       "        text-align: right;\n",
       "    }\n",
       "</style>\n",
       "<table border=\"1\" class=\"dataframe\">\n",
       "  <thead>\n",
       "    <tr style=\"text-align: right;\">\n",
       "      <th></th>\n",
       "      <th>Unnamed: 0</th>\n",
       "      <th>PFE</th>\n",
       "      <th>Unnamed: 2</th>\n",
       "      <th>TSLA</th>\n",
       "      <th>Unnamed: 4</th>\n",
       "      <th>ENB</th>\n",
       "      <th>Unnamed: 6</th>\n",
       "      <th>SHOP</th>\n",
       "      <th>Unnamed: 8</th>\n",
       "      <th>SPY</th>\n",
       "    </tr>\n",
       "  </thead>\n",
       "  <tbody>\n",
       "    <tr>\n",
       "      <th>0</th>\n",
       "      <td>5/2/2016</td>\n",
       "      <td>31.07</td>\n",
       "      <td>5/2/2016</td>\n",
       "      <td>48.36</td>\n",
       "      <td>5/2/2016</td>\n",
       "      <td>41.33</td>\n",
       "      <td>5/2/2016</td>\n",
       "      <td>31.41</td>\n",
       "      <td>5/2/2016</td>\n",
       "      <td>207.97</td>\n",
       "    </tr>\n",
       "    <tr>\n",
       "      <th>1</th>\n",
       "      <td>5/3/2016</td>\n",
       "      <td>31.93</td>\n",
       "      <td>5/3/2016</td>\n",
       "      <td>46.46</td>\n",
       "      <td>5/3/2016</td>\n",
       "      <td>40.42</td>\n",
       "      <td>5/3/2016</td>\n",
       "      <td>30.74</td>\n",
       "      <td>5/3/2016</td>\n",
       "      <td>206.16</td>\n",
       "    </tr>\n",
       "    <tr>\n",
       "      <th>2</th>\n",
       "      <td>5/4/2016</td>\n",
       "      <td>31.64</td>\n",
       "      <td>5/4/2016</td>\n",
       "      <td>44.51</td>\n",
       "      <td>5/4/2016</td>\n",
       "      <td>39.57</td>\n",
       "      <td>5/4/2016</td>\n",
       "      <td>29.61</td>\n",
       "      <td>5/4/2016</td>\n",
       "      <td>205.01</td>\n",
       "    </tr>\n",
       "    <tr>\n",
       "      <th>3</th>\n",
       "      <td>5/5/2016</td>\n",
       "      <td>31.80</td>\n",
       "      <td>5/5/2016</td>\n",
       "      <td>42.31</td>\n",
       "      <td>5/5/2016</td>\n",
       "      <td>39.10</td>\n",
       "      <td>5/5/2016</td>\n",
       "      <td>28.52</td>\n",
       "      <td>5/5/2016</td>\n",
       "      <td>204.97</td>\n",
       "    </tr>\n",
       "    <tr>\n",
       "      <th>4</th>\n",
       "      <td>5/6/2016</td>\n",
       "      <td>31.81</td>\n",
       "      <td>5/6/2016</td>\n",
       "      <td>42.99</td>\n",
       "      <td>5/6/2016</td>\n",
       "      <td>39.29</td>\n",
       "      <td>5/6/2016</td>\n",
       "      <td>27.72</td>\n",
       "      <td>5/6/2016</td>\n",
       "      <td>205.72</td>\n",
       "    </tr>\n",
       "  </tbody>\n",
       "</table>\n",
       "</div>"
      ],
      "text/plain": [
       "  Unnamed: 0    PFE Unnamed: 2   TSLA Unnamed: 4    ENB Unnamed: 6   SHOP  \\\n",
       "0   5/2/2016  31.07   5/2/2016  48.36   5/2/2016  41.33   5/2/2016  31.41   \n",
       "1   5/3/2016  31.93   5/3/2016  46.46   5/3/2016  40.42   5/3/2016  30.74   \n",
       "2   5/4/2016  31.64   5/4/2016  44.51   5/4/2016  39.57   5/4/2016  29.61   \n",
       "3   5/5/2016  31.80   5/5/2016  42.31   5/5/2016  39.10   5/5/2016  28.52   \n",
       "4   5/6/2016  31.81   5/6/2016  42.99   5/6/2016  39.29   5/6/2016  27.72   \n",
       "\n",
       "  Unnamed: 8     SPY  \n",
       "0   5/2/2016  207.97  \n",
       "1   5/3/2016  206.16  \n",
       "2   5/4/2016  205.01  \n",
       "3   5/5/2016  204.97  \n",
       "4   5/6/2016  205.72  "
      ]
     },
     "execution_count": 351,
     "metadata": {},
     "output_type": "execute_result"
    }
   ],
   "source": [
    "portfolio_path = Path(\"Stocks_Assignment.csv\")\n",
    "portfolio_df = pd.read_csv(portfolio_path, parse_dates=True, infer_datetime_format=True)\n",
    "portfolio_df.head()"
   ]
  },
  {
   "cell_type": "code",
   "execution_count": 352,
   "metadata": {},
   "outputs": [
    {
     "data": {
      "text/html": [
       "<div>\n",
       "<style scoped>\n",
       "    .dataframe tbody tr th:only-of-type {\n",
       "        vertical-align: middle;\n",
       "    }\n",
       "\n",
       "    .dataframe tbody tr th {\n",
       "        vertical-align: top;\n",
       "    }\n",
       "\n",
       "    .dataframe thead th {\n",
       "        text-align: right;\n",
       "    }\n",
       "</style>\n",
       "<table border=\"1\" class=\"dataframe\">\n",
       "  <thead>\n",
       "    <tr style=\"text-align: right;\">\n",
       "      <th></th>\n",
       "      <th>Unnamed: 0</th>\n",
       "      <th>PFE</th>\n",
       "      <th>TSLA</th>\n",
       "      <th>ENB</th>\n",
       "      <th>SHOP</th>\n",
       "      <th>SPY</th>\n",
       "    </tr>\n",
       "  </thead>\n",
       "  <tbody>\n",
       "    <tr>\n",
       "      <th>0</th>\n",
       "      <td>5/2/2016</td>\n",
       "      <td>31.07</td>\n",
       "      <td>48.36</td>\n",
       "      <td>41.33</td>\n",
       "      <td>31.41</td>\n",
       "      <td>207.97</td>\n",
       "    </tr>\n",
       "    <tr>\n",
       "      <th>1</th>\n",
       "      <td>5/3/2016</td>\n",
       "      <td>31.93</td>\n",
       "      <td>46.46</td>\n",
       "      <td>40.42</td>\n",
       "      <td>30.74</td>\n",
       "      <td>206.16</td>\n",
       "    </tr>\n",
       "    <tr>\n",
       "      <th>2</th>\n",
       "      <td>5/4/2016</td>\n",
       "      <td>31.64</td>\n",
       "      <td>44.51</td>\n",
       "      <td>39.57</td>\n",
       "      <td>29.61</td>\n",
       "      <td>205.01</td>\n",
       "    </tr>\n",
       "    <tr>\n",
       "      <th>3</th>\n",
       "      <td>5/5/2016</td>\n",
       "      <td>31.80</td>\n",
       "      <td>42.31</td>\n",
       "      <td>39.10</td>\n",
       "      <td>28.52</td>\n",
       "      <td>204.97</td>\n",
       "    </tr>\n",
       "    <tr>\n",
       "      <th>4</th>\n",
       "      <td>5/6/2016</td>\n",
       "      <td>31.81</td>\n",
       "      <td>42.99</td>\n",
       "      <td>39.29</td>\n",
       "      <td>27.72</td>\n",
       "      <td>205.72</td>\n",
       "    </tr>\n",
       "  </tbody>\n",
       "</table>\n",
       "</div>"
      ],
      "text/plain": [
       "  Unnamed: 0    PFE   TSLA    ENB   SHOP     SPY\n",
       "0   5/2/2016  31.07  48.36  41.33  31.41  207.97\n",
       "1   5/3/2016  31.93  46.46  40.42  30.74  206.16\n",
       "2   5/4/2016  31.64  44.51  39.57  29.61  205.01\n",
       "3   5/5/2016  31.80  42.31  39.10  28.52  204.97\n",
       "4   5/6/2016  31.81  42.99  39.29  27.72  205.72"
      ]
     },
     "execution_count": 352,
     "metadata": {},
     "output_type": "execute_result"
    }
   ],
   "source": [
    "# Combine all stocks in a single DataFrame\n",
    "portfolio_df = portfolio_df.drop(columns=[\"Unnamed: 2\",\"Unnamed: 4\",\"Unnamed: 6\",\"Unnamed: 8\"])\n",
    "portfolio_df.head()"
   ]
  },
  {
   "cell_type": "code",
   "execution_count": 353,
   "metadata": {},
   "outputs": [
    {
     "data": {
      "text/html": [
       "<div>\n",
       "<style scoped>\n",
       "    .dataframe tbody tr th:only-of-type {\n",
       "        vertical-align: middle;\n",
       "    }\n",
       "\n",
       "    .dataframe tbody tr th {\n",
       "        vertical-align: top;\n",
       "    }\n",
       "\n",
       "    .dataframe thead th {\n",
       "        text-align: right;\n",
       "    }\n",
       "</style>\n",
       "<table border=\"1\" class=\"dataframe\">\n",
       "  <thead>\n",
       "    <tr style=\"text-align: right;\">\n",
       "      <th></th>\n",
       "      <th>Date</th>\n",
       "      <th>PFE</th>\n",
       "      <th>TSLA</th>\n",
       "      <th>ENB</th>\n",
       "      <th>SHOP</th>\n",
       "      <th>SPY</th>\n",
       "    </tr>\n",
       "  </thead>\n",
       "  <tbody>\n",
       "    <tr>\n",
       "      <th>0</th>\n",
       "      <td>5/2/2016</td>\n",
       "      <td>31.07</td>\n",
       "      <td>48.36</td>\n",
       "      <td>41.33</td>\n",
       "      <td>31.41</td>\n",
       "      <td>207.97</td>\n",
       "    </tr>\n",
       "    <tr>\n",
       "      <th>1</th>\n",
       "      <td>5/3/2016</td>\n",
       "      <td>31.93</td>\n",
       "      <td>46.46</td>\n",
       "      <td>40.42</td>\n",
       "      <td>30.74</td>\n",
       "      <td>206.16</td>\n",
       "    </tr>\n",
       "    <tr>\n",
       "      <th>2</th>\n",
       "      <td>5/4/2016</td>\n",
       "      <td>31.64</td>\n",
       "      <td>44.51</td>\n",
       "      <td>39.57</td>\n",
       "      <td>29.61</td>\n",
       "      <td>205.01</td>\n",
       "    </tr>\n",
       "    <tr>\n",
       "      <th>3</th>\n",
       "      <td>5/5/2016</td>\n",
       "      <td>31.80</td>\n",
       "      <td>42.31</td>\n",
       "      <td>39.10</td>\n",
       "      <td>28.52</td>\n",
       "      <td>204.97</td>\n",
       "    </tr>\n",
       "    <tr>\n",
       "      <th>4</th>\n",
       "      <td>5/6/2016</td>\n",
       "      <td>31.81</td>\n",
       "      <td>42.99</td>\n",
       "      <td>39.29</td>\n",
       "      <td>27.72</td>\n",
       "      <td>205.72</td>\n",
       "    </tr>\n",
       "  </tbody>\n",
       "</table>\n",
       "</div>"
      ],
      "text/plain": [
       "       Date    PFE   TSLA    ENB   SHOP     SPY\n",
       "0  5/2/2016  31.07  48.36  41.33  31.41  207.97\n",
       "1  5/3/2016  31.93  46.46  40.42  30.74  206.16\n",
       "2  5/4/2016  31.64  44.51  39.57  29.61  205.01\n",
       "3  5/5/2016  31.80  42.31  39.10  28.52  204.97\n",
       "4  5/6/2016  31.81  42.99  39.29  27.72  205.72"
      ]
     },
     "execution_count": 353,
     "metadata": {},
     "output_type": "execute_result"
    }
   ],
   "source": [
    "#portfolio_df = portfolio_df.set_index(\"Unamed:0\")\n",
    "# Reorganize portfolio data by having a column per symbol\n",
    "columns = [\"Date\", \"PFE\", \"TSLA\", \"ENB\", \"SHOP\", \"SPY\"]\n",
    "portfolio_df.columns = columns\n",
    "portfolio_df.head()\n"
   ]
  },
  {
   "cell_type": "code",
   "execution_count": 354,
   "metadata": {},
   "outputs": [
    {
     "data": {
      "text/html": [
       "<div>\n",
       "<style scoped>\n",
       "    .dataframe tbody tr th:only-of-type {\n",
       "        vertical-align: middle;\n",
       "    }\n",
       "\n",
       "    .dataframe tbody tr th {\n",
       "        vertical-align: top;\n",
       "    }\n",
       "\n",
       "    .dataframe thead th {\n",
       "        text-align: right;\n",
       "    }\n",
       "</style>\n",
       "<table border=\"1\" class=\"dataframe\">\n",
       "  <thead>\n",
       "    <tr style=\"text-align: right;\">\n",
       "      <th></th>\n",
       "      <th>PFE</th>\n",
       "      <th>TSLA</th>\n",
       "      <th>ENB</th>\n",
       "      <th>SHOP</th>\n",
       "      <th>SPY</th>\n",
       "    </tr>\n",
       "    <tr>\n",
       "      <th>Date</th>\n",
       "      <th></th>\n",
       "      <th></th>\n",
       "      <th></th>\n",
       "      <th></th>\n",
       "      <th></th>\n",
       "    </tr>\n",
       "  </thead>\n",
       "  <tbody>\n",
       "    <tr>\n",
       "      <th>5/2/2016</th>\n",
       "      <td>31.07</td>\n",
       "      <td>48.36</td>\n",
       "      <td>41.33</td>\n",
       "      <td>31.41</td>\n",
       "      <td>207.97</td>\n",
       "    </tr>\n",
       "    <tr>\n",
       "      <th>5/3/2016</th>\n",
       "      <td>31.93</td>\n",
       "      <td>46.46</td>\n",
       "      <td>40.42</td>\n",
       "      <td>30.74</td>\n",
       "      <td>206.16</td>\n",
       "    </tr>\n",
       "    <tr>\n",
       "      <th>5/4/2016</th>\n",
       "      <td>31.64</td>\n",
       "      <td>44.51</td>\n",
       "      <td>39.57</td>\n",
       "      <td>29.61</td>\n",
       "      <td>205.01</td>\n",
       "    </tr>\n",
       "    <tr>\n",
       "      <th>5/5/2016</th>\n",
       "      <td>31.80</td>\n",
       "      <td>42.31</td>\n",
       "      <td>39.10</td>\n",
       "      <td>28.52</td>\n",
       "      <td>204.97</td>\n",
       "    </tr>\n",
       "    <tr>\n",
       "      <th>5/6/2016</th>\n",
       "      <td>31.81</td>\n",
       "      <td>42.99</td>\n",
       "      <td>39.29</td>\n",
       "      <td>27.72</td>\n",
       "      <td>205.72</td>\n",
       "    </tr>\n",
       "  </tbody>\n",
       "</table>\n",
       "</div>"
      ],
      "text/plain": [
       "            PFE   TSLA    ENB   SHOP     SPY\n",
       "Date                                        \n",
       "5/2/2016  31.07  48.36  41.33  31.41  207.97\n",
       "5/3/2016  31.93  46.46  40.42  30.74  206.16\n",
       "5/4/2016  31.64  44.51  39.57  29.61  205.01\n",
       "5/5/2016  31.80  42.31  39.10  28.52  204.97\n",
       "5/6/2016  31.81  42.99  39.29  27.72  205.72"
      ]
     },
     "execution_count": 354,
     "metadata": {},
     "output_type": "execute_result"
    }
   ],
   "source": [
    "# Reset Date index\n",
    "portfolio_df.set_index(portfolio_df['Date'], inplace=True)\n",
    "portfolio_df = portfolio_df.drop(columns=[\"Date\"])\n",
    "portfolio_df.head()"
   ]
  },
  {
   "cell_type": "code",
   "execution_count": 355,
   "metadata": {},
   "outputs": [
    {
     "data": {
      "text/html": [
       "<div>\n",
       "<style scoped>\n",
       "    .dataframe tbody tr th:only-of-type {\n",
       "        vertical-align: middle;\n",
       "    }\n",
       "\n",
       "    .dataframe tbody tr th {\n",
       "        vertical-align: top;\n",
       "    }\n",
       "\n",
       "    .dataframe thead th {\n",
       "        text-align: right;\n",
       "    }\n",
       "</style>\n",
       "<table border=\"1\" class=\"dataframe\">\n",
       "  <thead>\n",
       "    <tr style=\"text-align: right;\">\n",
       "      <th></th>\n",
       "      <th>PFE</th>\n",
       "      <th>TSLA</th>\n",
       "      <th>ENB</th>\n",
       "      <th>SHOP</th>\n",
       "      <th>SPY</th>\n",
       "    </tr>\n",
       "    <tr>\n",
       "      <th>Date</th>\n",
       "      <th></th>\n",
       "      <th></th>\n",
       "      <th></th>\n",
       "      <th></th>\n",
       "      <th></th>\n",
       "    </tr>\n",
       "  </thead>\n",
       "  <tbody>\n",
       "    <tr>\n",
       "      <th>2016-05-03</th>\n",
       "      <td>0.027679</td>\n",
       "      <td>-0.039289</td>\n",
       "      <td>-0.022018</td>\n",
       "      <td>-0.021331</td>\n",
       "      <td>-0.008703</td>\n",
       "    </tr>\n",
       "    <tr>\n",
       "      <th>2016-05-04</th>\n",
       "      <td>-0.009082</td>\n",
       "      <td>-0.041972</td>\n",
       "      <td>-0.021029</td>\n",
       "      <td>-0.036760</td>\n",
       "      <td>-0.005578</td>\n",
       "    </tr>\n",
       "    <tr>\n",
       "      <th>2016-05-05</th>\n",
       "      <td>0.005057</td>\n",
       "      <td>-0.049427</td>\n",
       "      <td>-0.011878</td>\n",
       "      <td>-0.036812</td>\n",
       "      <td>-0.000195</td>\n",
       "    </tr>\n",
       "    <tr>\n",
       "      <th>2016-05-06</th>\n",
       "      <td>0.000314</td>\n",
       "      <td>0.016072</td>\n",
       "      <td>0.004859</td>\n",
       "      <td>-0.028050</td>\n",
       "      <td>0.003659</td>\n",
       "    </tr>\n",
       "    <tr>\n",
       "      <th>2016-05-09</th>\n",
       "      <td>0.007230</td>\n",
       "      <td>-0.028146</td>\n",
       "      <td>-0.019598</td>\n",
       "      <td>-0.045455</td>\n",
       "      <td>0.000826</td>\n",
       "    </tr>\n",
       "  </tbody>\n",
       "</table>\n",
       "</div>"
      ],
      "text/plain": [
       "                 PFE      TSLA       ENB      SHOP       SPY\n",
       "Date                                                        \n",
       "2016-05-03  0.027679 -0.039289 -0.022018 -0.021331 -0.008703\n",
       "2016-05-04 -0.009082 -0.041972 -0.021029 -0.036760 -0.005578\n",
       "2016-05-05  0.005057 -0.049427 -0.011878 -0.036812 -0.000195\n",
       "2016-05-06  0.000314  0.016072  0.004859 -0.028050  0.003659\n",
       "2016-05-09  0.007230 -0.028146 -0.019598 -0.045455  0.000826"
      ]
     },
     "execution_count": 355,
     "metadata": {},
     "output_type": "execute_result"
    }
   ],
   "source": [
    "# Calculate daily returns\n",
    "# Drop NAs\n",
    "# Display sample data\n",
    "daily_returns = portfolio_df.pct_change()\n",
    "daily_returns = daily_returns.dropna()\n",
    "daily_returns.index = pd.to_datetime(daily_returns.index, format = '%m/%d/%Y').strftime('%Y-%m-%d')\n",
    "daily_returns.head()"
   ]
  },
  {
   "cell_type": "markdown",
   "metadata": {},
   "source": [
    "## Calculate the weighted returns for the portfolio assuming an equal number of shares for each stock"
   ]
  },
  {
   "cell_type": "code",
   "execution_count": 356,
   "metadata": {},
   "outputs": [
    {
     "data": {
      "text/html": [
       "<div>\n",
       "<style scoped>\n",
       "    .dataframe tbody tr th:only-of-type {\n",
       "        vertical-align: middle;\n",
       "    }\n",
       "\n",
       "    .dataframe tbody tr th {\n",
       "        vertical-align: top;\n",
       "    }\n",
       "\n",
       "    .dataframe thead th {\n",
       "        text-align: right;\n",
       "    }\n",
       "</style>\n",
       "<table border=\"1\" class=\"dataframe\">\n",
       "  <thead>\n",
       "    <tr style=\"text-align: right;\">\n",
       "      <th></th>\n",
       "      <th>PFE</th>\n",
       "      <th>TSLA</th>\n",
       "      <th>ENB</th>\n",
       "      <th>SHOP</th>\n",
       "      <th>SPY</th>\n",
       "    </tr>\n",
       "    <tr>\n",
       "      <th>Date</th>\n",
       "      <th></th>\n",
       "      <th></th>\n",
       "      <th></th>\n",
       "      <th></th>\n",
       "      <th></th>\n",
       "    </tr>\n",
       "  </thead>\n",
       "  <tbody>\n",
       "    <tr>\n",
       "      <th>2016-05-03</th>\n",
       "      <td>0.005536</td>\n",
       "      <td>-0.007858</td>\n",
       "      <td>-0.004404</td>\n",
       "      <td>-0.004266</td>\n",
       "      <td>-0.001741</td>\n",
       "    </tr>\n",
       "    <tr>\n",
       "      <th>2016-05-04</th>\n",
       "      <td>-0.001816</td>\n",
       "      <td>-0.008394</td>\n",
       "      <td>-0.004206</td>\n",
       "      <td>-0.007352</td>\n",
       "      <td>-0.001116</td>\n",
       "    </tr>\n",
       "    <tr>\n",
       "      <th>2016-05-05</th>\n",
       "      <td>0.001011</td>\n",
       "      <td>-0.009885</td>\n",
       "      <td>-0.002376</td>\n",
       "      <td>-0.007362</td>\n",
       "      <td>-0.000039</td>\n",
       "    </tr>\n",
       "    <tr>\n",
       "      <th>2016-05-06</th>\n",
       "      <td>0.000063</td>\n",
       "      <td>0.003214</td>\n",
       "      <td>0.000972</td>\n",
       "      <td>-0.005610</td>\n",
       "      <td>0.000732</td>\n",
       "    </tr>\n",
       "    <tr>\n",
       "      <th>2016-05-09</th>\n",
       "      <td>0.001446</td>\n",
       "      <td>-0.005629</td>\n",
       "      <td>-0.003920</td>\n",
       "      <td>-0.009091</td>\n",
       "      <td>0.000165</td>\n",
       "    </tr>\n",
       "    <tr>\n",
       "      <th>...</th>\n",
       "      <td>...</td>\n",
       "      <td>...</td>\n",
       "      <td>...</td>\n",
       "      <td>...</td>\n",
       "      <td>...</td>\n",
       "    </tr>\n",
       "    <tr>\n",
       "      <th>2018-04-24</th>\n",
       "      <td>0.001434</td>\n",
       "      <td>0.000071</td>\n",
       "      <td>-0.010448</td>\n",
       "      <td>0.000374</td>\n",
       "      <td>-0.002693</td>\n",
       "    </tr>\n",
       "    <tr>\n",
       "      <th>2018-04-25</th>\n",
       "      <td>-0.002051</td>\n",
       "      <td>-0.001940</td>\n",
       "      <td>-0.000817</td>\n",
       "      <td>-0.005067</td>\n",
       "      <td>0.000494</td>\n",
       "    </tr>\n",
       "    <tr>\n",
       "      <th>2018-04-26</th>\n",
       "      <td>0.000921</td>\n",
       "      <td>0.003420</td>\n",
       "      <td>0.001025</td>\n",
       "      <td>0.006882</td>\n",
       "      <td>0.002033</td>\n",
       "    </tr>\n",
       "    <tr>\n",
       "      <th>2018-04-27</th>\n",
       "      <td>0.000802</td>\n",
       "      <td>0.006025</td>\n",
       "      <td>0.002583</td>\n",
       "      <td>0.003979</td>\n",
       "      <td>0.000188</td>\n",
       "    </tr>\n",
       "    <tr>\n",
       "      <th>2018-04-30</th>\n",
       "      <td>-0.002111</td>\n",
       "      <td>-0.000136</td>\n",
       "      <td>0.003154</td>\n",
       "      <td>0.011073</td>\n",
       "      <td>-0.001538</td>\n",
       "    </tr>\n",
       "  </tbody>\n",
       "</table>\n",
       "<p>502 rows × 5 columns</p>\n",
       "</div>"
      ],
      "text/plain": [
       "                 PFE      TSLA       ENB      SHOP       SPY\n",
       "Date                                                        \n",
       "2016-05-03  0.005536 -0.007858 -0.004404 -0.004266 -0.001741\n",
       "2016-05-04 -0.001816 -0.008394 -0.004206 -0.007352 -0.001116\n",
       "2016-05-05  0.001011 -0.009885 -0.002376 -0.007362 -0.000039\n",
       "2016-05-06  0.000063  0.003214  0.000972 -0.005610  0.000732\n",
       "2016-05-09  0.001446 -0.005629 -0.003920 -0.009091  0.000165\n",
       "...              ...       ...       ...       ...       ...\n",
       "2018-04-24  0.001434  0.000071 -0.010448  0.000374 -0.002693\n",
       "2018-04-25 -0.002051 -0.001940 -0.000817 -0.005067  0.000494\n",
       "2018-04-26  0.000921  0.003420  0.001025  0.006882  0.002033\n",
       "2018-04-27  0.000802  0.006025  0.002583  0.003979  0.000188\n",
       "2018-04-30 -0.002111 -0.000136  0.003154  0.011073 -0.001538\n",
       "\n",
       "[502 rows x 5 columns]"
      ]
     },
     "execution_count": 356,
     "metadata": {},
     "output_type": "execute_result"
    }
   ],
   "source": [
    "# Set weights\n",
    "weights =  [0.2, 0.2, 0.2, 0.2, 0.2]\n",
    "weighted_returns =  weights * daily_returns\n",
    "weighted_returns"
   ]
  },
  {
   "cell_type": "code",
   "execution_count": 359,
   "metadata": {},
   "outputs": [
    {
     "data": {
      "text/plain": [
       "Date\n",
       "2016-05-03   -0.012732\n",
       "2016-05-04   -0.022884\n",
       "2016-05-05   -0.018651\n",
       "2016-05-06   -0.000629\n",
       "2016-05-09   -0.017028\n",
       "                ...   \n",
       "2018-04-24   -0.011263\n",
       "2018-04-25   -0.009381\n",
       "2018-04-26    0.014281\n",
       "2018-04-27    0.013577\n",
       "2018-04-30    0.010441\n",
       "Length: 502, dtype: float64"
      ]
     },
     "execution_count": 359,
     "metadata": {},
     "output_type": "execute_result"
    }
   ],
   "source": [
    "portfolio_returns = weighted_returns.sum(axis=1)\n",
    "portfolio_returns"
   ]
  },
  {
   "cell_type": "code",
   "execution_count": 360,
   "metadata": {},
   "outputs": [
    {
     "data": {
      "text/plain": [
       "<AxesSubplot:title={'center':'Cumulative Returns of Portfolio'}, xlabel='Date'>"
      ]
     },
     "execution_count": 360,
     "metadata": {},
     "output_type": "execute_result"
    },
    {
     "data": {
      "image/png": "[encoded data removed]",
      "text/plain": [
       "<Figure size 720x360 with 1 Axes>"
      ]
     },
     "metadata": {
      "needs_background": "light"
     },
     "output_type": "display_data"
    }
   ],
   "source": [
    "cumulative_returns = (1 + daily_returns).cumprod() - 1\n",
    "cumulative_returns_total.plot(figsize=(10,5), title=\"Cumulative Returns of Portfolio\")\n",
    "# # Display sample data"
   ]
  },
  {
   "cell_type": "markdown",
   "metadata": {},
   "source": [
    "## Join your portfolio returns to the DataFrame that contains all of the portfolio returns"
   ]
  },
  {
   "cell_type": "code",
   "execution_count": 382,
   "metadata": {},
   "outputs": [
    {
     "data": {
      "text/plain": [
       "pandas.core.frame.DataFrame"
      ]
     },
     "execution_count": 382,
     "metadata": {},
     "output_type": "execute_result"
    }
   ],
   "source": [
    "# Join your returns DataFrame to the original returns DataFrame\n",
    "total_df = pd.concat([allreturns_df_base, daily_returns], axis=\"columns\", join=\"inner\")\n",
    "total_df\n"
   ]
  },
  {
   "cell_type": "code",
   "execution_count": null,
   "metadata": {},
   "outputs": [],
   "source": []
  },
  {
   "cell_type": "markdown",
   "metadata": {},
   "source": [
    "## Re-run the risk analysis with your portfolio to see how it compares to the others"
   ]
  },
  {
   "cell_type": "markdown",
   "metadata": {},
   "source": [
    "### Calculate the Annualized Standard Deviation"
   ]
  },
  {
   "cell_type": "code",
   "execution_count": 374,
   "metadata": {},
   "outputs": [
    {
     "data": {
      "text/html": [
       "<div>\n",
       "<style scoped>\n",
       "    .dataframe tbody tr th:only-of-type {\n",
       "        vertical-align: middle;\n",
       "    }\n",
       "\n",
       "    .dataframe tbody tr th {\n",
       "        vertical-align: top;\n",
       "    }\n",
       "\n",
       "    .dataframe thead th {\n",
       "        text-align: right;\n",
       "    }\n",
       "</style>\n",
       "<table border=\"1\" class=\"dataframe\">\n",
       "  <thead>\n",
       "    <tr style=\"text-align: right;\">\n",
       "      <th></th>\n",
       "      <th>StdDev</th>\n",
       "    </tr>\n",
       "  </thead>\n",
       "  <tbody>\n",
       "    <tr>\n",
       "      <th>SOROS FUND MANAGEMENT LLC</th>\n",
       "      <td>0.006710</td>\n",
       "    </tr>\n",
       "    <tr>\n",
       "      <th>PAULSON &amp; CO.INC.</th>\n",
       "      <td>0.006981</td>\n",
       "    </tr>\n",
       "    <tr>\n",
       "      <th>TIGER GLOBAL MANAGEMENT LLC</th>\n",
       "      <td>0.009550</td>\n",
       "    </tr>\n",
       "    <tr>\n",
       "      <th>BERKSHIRE HATHAWAY INC</th>\n",
       "      <td>0.010294</td>\n",
       "    </tr>\n",
       "    <tr>\n",
       "      <th>SP_TSX</th>\n",
       "      <td>0.005477</td>\n",
       "    </tr>\n",
       "  </tbody>\n",
       "</table>\n",
       "</div>"
      ],
      "text/plain": [
       "                               StdDev\n",
       "SOROS FUND MANAGEMENT LLC    0.006710\n",
       "PAULSON & CO.INC.            0.006981\n",
       "TIGER GLOBAL MANAGEMENT LLC  0.009550\n",
       "BERKSHIRE HATHAWAY INC       0.010294\n",
       "SP_TSX                       0.005477"
      ]
     },
     "execution_count": 374,
     "metadata": {},
     "output_type": "execute_result"
    }
   ],
   "source": [
    "# Calculate the annualized `std`\n",
    "total_df_std = total_df.std()\n",
    "total_df_std = pd.DataFrame(total_df_std)\n",
    "total_df_std.head()\n",
    "col_names = [\"StdDev\"]\n",
    "total_df_std.columns = col_names\n",
    "total_df_std.head()"
   ]
  },
  {
   "cell_type": "markdown",
   "metadata": {},
   "source": [
    "### Calculate and plot rolling `std` with 21-day window"
   ]
  },
  {
   "cell_type": "code",
   "execution_count": 376,
   "metadata": {},
   "outputs": [
    {
     "data": {
      "text/plain": [
       "<AxesSubplot:xlabel='Date'>"
      ]
     },
     "execution_count": 376,
     "metadata": {},
     "output_type": "execute_result"
    },
    {
     "data": {
      "image/png": "[encoded data removed]",
      "text/plain": [
       "<Figure size 432x288 with 1 Axes>"
      ]
     },
     "metadata": {
      "needs_background": "light"
     },
     "output_type": "display_data"
    }
   ],
   "source": [
    "# Calculate rolling standard deviation\n",
    "total_df.rolling(window=21).std().plot()\n",
    "\n",
    "# Plot rolling standard deviation\n",
    "# ax = total_df_std.plot()\n",
    "# total_df_std.rolling(window=21).mean().plot(ax=ax)"
   ]
  },
  {
   "cell_type": "markdown",
   "metadata": {},
   "source": [
    "### Calculate and plot the correlation"
   ]
  },
  {
   "cell_type": "code",
   "execution_count": 377,
   "metadata": {},
   "outputs": [
    {
     "data": {
      "text/html": [
       "<div>\n",
       "<style scoped>\n",
       "    .dataframe tbody tr th:only-of-type {\n",
       "        vertical-align: middle;\n",
       "    }\n",
       "\n",
       "    .dataframe tbody tr th {\n",
       "        vertical-align: top;\n",
       "    }\n",
       "\n",
       "    .dataframe thead th {\n",
       "        text-align: right;\n",
       "    }\n",
       "</style>\n",
       "<table border=\"1\" class=\"dataframe\">\n",
       "  <thead>\n",
       "    <tr style=\"text-align: right;\">\n",
       "      <th></th>\n",
       "      <th>SOROS FUND MANAGEMENT LLC</th>\n",
       "      <th>PAULSON &amp; CO.INC.</th>\n",
       "      <th>TIGER GLOBAL MANAGEMENT LLC</th>\n",
       "      <th>BERKSHIRE HATHAWAY INC</th>\n",
       "      <th>SP_TSX</th>\n",
       "      <th>Algo 1</th>\n",
       "      <th>Algo 2</th>\n",
       "      <th>PFE</th>\n",
       "      <th>TSLA</th>\n",
       "      <th>ENB</th>\n",
       "      <th>SHOP</th>\n",
       "      <th>SPY</th>\n",
       "    </tr>\n",
       "  </thead>\n",
       "  <tbody>\n",
       "    <tr>\n",
       "      <th>SOROS FUND MANAGEMENT LLC</th>\n",
       "      <td>1.000000</td>\n",
       "      <td>0.584586</td>\n",
       "      <td>0.498555</td>\n",
       "      <td>0.707891</td>\n",
       "      <td>0.581499</td>\n",
       "      <td>0.234417</td>\n",
       "      <td>0.753653</td>\n",
       "      <td>0.365283</td>\n",
       "      <td>0.330073</td>\n",
       "      <td>0.405449</td>\n",
       "      <td>0.387762</td>\n",
       "      <td>0.763159</td>\n",
       "    </tr>\n",
       "    <tr>\n",
       "      <th>PAULSON &amp; CO.INC.</th>\n",
       "      <td>0.584586</td>\n",
       "      <td>1.000000</td>\n",
       "      <td>0.298659</td>\n",
       "      <td>0.474470</td>\n",
       "      <td>0.449862</td>\n",
       "      <td>0.223540</td>\n",
       "      <td>0.631980</td>\n",
       "      <td>0.431658</td>\n",
       "      <td>0.224937</td>\n",
       "      <td>0.318536</td>\n",
       "      <td>0.299090</td>\n",
       "      <td>0.596532</td>\n",
       "    </tr>\n",
       "    <tr>\n",
       "      <th>TIGER GLOBAL MANAGEMENT LLC</th>\n",
       "      <td>0.498555</td>\n",
       "      <td>0.298659</td>\n",
       "      <td>1.000000</td>\n",
       "      <td>0.391743</td>\n",
       "      <td>0.363559</td>\n",
       "      <td>0.091112</td>\n",
       "      <td>0.469737</td>\n",
       "      <td>0.301216</td>\n",
       "      <td>0.259246</td>\n",
       "      <td>0.276200</td>\n",
       "      <td>0.155614</td>\n",
       "      <td>0.619621</td>\n",
       "    </tr>\n",
       "    <tr>\n",
       "      <th>BERKSHIRE HATHAWAY INC</th>\n",
       "      <td>0.707891</td>\n",
       "      <td>0.474470</td>\n",
       "      <td>0.391743</td>\n",
       "      <td>1.000000</td>\n",
       "      <td>0.509069</td>\n",
       "      <td>0.165866</td>\n",
       "      <td>0.648005</td>\n",
       "      <td>0.326914</td>\n",
       "      <td>0.372238</td>\n",
       "      <td>0.299697</td>\n",
       "      <td>0.459891</td>\n",
       "      <td>0.699019</td>\n",
       "    </tr>\n",
       "    <tr>\n",
       "      <th>SP_TSX</th>\n",
       "      <td>0.581499</td>\n",
       "      <td>0.449862</td>\n",
       "      <td>0.363559</td>\n",
       "      <td>0.509069</td>\n",
       "      <td>1.000000</td>\n",
       "      <td>0.267066</td>\n",
       "      <td>0.687594</td>\n",
       "      <td>0.343461</td>\n",
       "      <td>0.260951</td>\n",
       "      <td>0.570282</td>\n",
       "      <td>0.364895</td>\n",
       "      <td>0.683867</td>\n",
       "    </tr>\n",
       "    <tr>\n",
       "      <th>Algo 1</th>\n",
       "      <td>0.234417</td>\n",
       "      <td>0.223540</td>\n",
       "      <td>0.091112</td>\n",
       "      <td>0.165866</td>\n",
       "      <td>0.267066</td>\n",
       "      <td>1.000000</td>\n",
       "      <td>0.206058</td>\n",
       "      <td>0.187792</td>\n",
       "      <td>0.083097</td>\n",
       "      <td>0.272488</td>\n",
       "      <td>0.119382</td>\n",
       "      <td>0.234603</td>\n",
       "    </tr>\n",
       "    <tr>\n",
       "      <th>Algo 2</th>\n",
       "      <td>0.753653</td>\n",
       "      <td>0.631980</td>\n",
       "      <td>0.469737</td>\n",
       "      <td>0.648005</td>\n",
       "      <td>0.687594</td>\n",
       "      <td>0.206058</td>\n",
       "      <td>1.000000</td>\n",
       "      <td>0.457272</td>\n",
       "      <td>0.336076</td>\n",
       "      <td>0.421852</td>\n",
       "      <td>0.406570</td>\n",
       "      <td>0.849524</td>\n",
       "    </tr>\n",
       "    <tr>\n",
       "      <th>PFE</th>\n",
       "      <td>0.365283</td>\n",
       "      <td>0.431658</td>\n",
       "      <td>0.301216</td>\n",
       "      <td>0.326914</td>\n",
       "      <td>0.343461</td>\n",
       "      <td>0.187792</td>\n",
       "      <td>0.457272</td>\n",
       "      <td>1.000000</td>\n",
       "      <td>0.157685</td>\n",
       "      <td>0.148124</td>\n",
       "      <td>0.135361</td>\n",
       "      <td>0.565078</td>\n",
       "    </tr>\n",
       "    <tr>\n",
       "      <th>TSLA</th>\n",
       "      <td>0.330073</td>\n",
       "      <td>0.224937</td>\n",
       "      <td>0.259246</td>\n",
       "      <td>0.372238</td>\n",
       "      <td>0.260951</td>\n",
       "      <td>0.083097</td>\n",
       "      <td>0.336076</td>\n",
       "      <td>0.157685</td>\n",
       "      <td>1.000000</td>\n",
       "      <td>0.235903</td>\n",
       "      <td>0.197557</td>\n",
       "      <td>0.354602</td>\n",
       "    </tr>\n",
       "    <tr>\n",
       "      <th>ENB</th>\n",
       "      <td>0.405449</td>\n",
       "      <td>0.318536</td>\n",
       "      <td>0.276200</td>\n",
       "      <td>0.299697</td>\n",
       "      <td>0.570282</td>\n",
       "      <td>0.272488</td>\n",
       "      <td>0.421852</td>\n",
       "      <td>0.148124</td>\n",
       "      <td>0.235903</td>\n",
       "      <td>1.000000</td>\n",
       "      <td>0.223732</td>\n",
       "      <td>0.421092</td>\n",
       "    </tr>\n",
       "    <tr>\n",
       "      <th>SHOP</th>\n",
       "      <td>0.387762</td>\n",
       "      <td>0.299090</td>\n",
       "      <td>0.155614</td>\n",
       "      <td>0.459891</td>\n",
       "      <td>0.364895</td>\n",
       "      <td>0.119382</td>\n",
       "      <td>0.406570</td>\n",
       "      <td>0.135361</td>\n",
       "      <td>0.197557</td>\n",
       "      <td>0.223732</td>\n",
       "      <td>1.000000</td>\n",
       "      <td>0.400651</td>\n",
       "    </tr>\n",
       "    <tr>\n",
       "      <th>SPY</th>\n",
       "      <td>0.763159</td>\n",
       "      <td>0.596532</td>\n",
       "      <td>0.619621</td>\n",
       "      <td>0.699019</td>\n",
       "      <td>0.683867</td>\n",
       "      <td>0.234603</td>\n",
       "      <td>0.849524</td>\n",
       "      <td>0.565078</td>\n",
       "      <td>0.354602</td>\n",
       "      <td>0.421092</td>\n",
       "      <td>0.400651</td>\n",
       "      <td>1.000000</td>\n",
       "    </tr>\n",
       "  </tbody>\n",
       "</table>\n",
       "</div>"
      ],
      "text/plain": [
       "                             SOROS FUND MANAGEMENT LLC  PAULSON & CO.INC.   \\\n",
       "SOROS FUND MANAGEMENT LLC                     1.000000            0.584586   \n",
       "PAULSON & CO.INC.                             0.584586            1.000000   \n",
       "TIGER GLOBAL MANAGEMENT LLC                   0.498555            0.298659   \n",
       "BERKSHIRE HATHAWAY INC                        0.707891            0.474470   \n",
       "SP_TSX                                        0.581499            0.449862   \n",
       "Algo 1                                        0.234417            0.223540   \n",
       "Algo 2                                        0.753653            0.631980   \n",
       "PFE                                           0.365283            0.431658   \n",
       "TSLA                                          0.330073            0.224937   \n",
       "ENB                                           0.405449            0.318536   \n",
       "SHOP                                          0.387762            0.299090   \n",
       "SPY                                           0.763159            0.596532   \n",
       "\n",
       "                             TIGER GLOBAL MANAGEMENT LLC  \\\n",
       "SOROS FUND MANAGEMENT LLC                       0.498555   \n",
       "PAULSON & CO.INC.                               0.298659   \n",
       "TIGER GLOBAL MANAGEMENT LLC                     1.000000   \n",
       "BERKSHIRE HATHAWAY INC                          0.391743   \n",
       "SP_TSX                                          0.363559   \n",
       "Algo 1                                          0.091112   \n",
       "Algo 2                                          0.469737   \n",
       "PFE                                             0.301216   \n",
       "TSLA                                            0.259246   \n",
       "ENB                                             0.276200   \n",
       "SHOP                                            0.155614   \n",
       "SPY                                             0.619621   \n",
       "\n",
       "                             BERKSHIRE HATHAWAY INC    SP_TSX    Algo 1  \\\n",
       "SOROS FUND MANAGEMENT LLC                  0.707891  0.581499  0.234417   \n",
       "PAULSON & CO.INC.                          0.474470  0.449862  0.223540   \n",
       "TIGER GLOBAL MANAGEMENT LLC                0.391743  0.363559  0.091112   \n",
       "BERKSHIRE HATHAWAY INC                     1.000000  0.509069  0.165866   \n",
       "SP_TSX                                     0.509069  1.000000  0.267066   \n",
       "Algo 1                                     0.165866  0.267066  1.000000   \n",
       "Algo 2                                     0.648005  0.687594  0.206058   \n",
       "PFE                                        0.326914  0.343461  0.187792   \n",
       "TSLA                                       0.372238  0.260951  0.083097   \n",
       "ENB                                        0.299697  0.570282  0.272488   \n",
       "SHOP                                       0.459891  0.364895  0.119382   \n",
       "SPY                                        0.699019  0.683867  0.234603   \n",
       "\n",
       "                               Algo 2       PFE      TSLA       ENB      SHOP  \\\n",
       "SOROS FUND MANAGEMENT LLC    0.753653  0.365283  0.330073  0.405449  0.387762   \n",
       "PAULSON & CO.INC.            0.631980  0.431658  0.224937  0.318536  0.299090   \n",
       "TIGER GLOBAL MANAGEMENT LLC  0.469737  0.301216  0.259246  0.276200  0.155614   \n",
       "BERKSHIRE HATHAWAY INC       0.648005  0.326914  0.372238  0.299697  0.459891   \n",
       "SP_TSX                       0.687594  0.343461  0.260951  0.570282  0.364895   \n",
       "Algo 1                       0.206058  0.187792  0.083097  0.272488  0.119382   \n",
       "Algo 2                       1.000000  0.457272  0.336076  0.421852  0.406570   \n",
       "PFE                          0.457272  1.000000  0.157685  0.148124  0.135361   \n",
       "TSLA                         0.336076  0.157685  1.000000  0.235903  0.197557   \n",
       "ENB                          0.421852  0.148124  0.235903  1.000000  0.223732   \n",
       "SHOP                         0.406570  0.135361  0.197557  0.223732  1.000000   \n",
       "SPY                          0.849524  0.565078  0.354602  0.421092  0.400651   \n",
       "\n",
       "                                  SPY  \n",
       "SOROS FUND MANAGEMENT LLC    0.763159  \n",
       "PAULSON & CO.INC.            0.596532  \n",
       "TIGER GLOBAL MANAGEMENT LLC  0.619621  \n",
       "BERKSHIRE HATHAWAY INC       0.699019  \n",
       "SP_TSX                       0.683867  \n",
       "Algo 1                       0.234603  \n",
       "Algo 2                       0.849524  \n",
       "PFE                          0.565078  \n",
       "TSLA                         0.354602  \n",
       "ENB                          0.421092  \n",
       "SHOP                         0.400651  \n",
       "SPY                          1.000000  "
      ]
     },
     "execution_count": 377,
     "metadata": {},
     "output_type": "execute_result"
    }
   ],
   "source": [
    "# Calculate and plot the correlation\n",
    "#sns.lmplot(x='SP500', y='MSFT', data=daily_returns, aspect=1.5, fit_reg=True)\n",
    "\n",
    "correlation_all = total_df.corr()\n",
    "correlation_all"
   ]
  },
  {
   "cell_type": "markdown",
   "metadata": {},
   "source": [
    "### Calculate and Plot the 60-day Rolling Beta for Your Portfolio compared to the S&P 60 TSX"
   ]
  },
  {
   "cell_type": "code",
   "execution_count": null,
   "metadata": {},
   "outputs": [],
   "source": [
    "# Calculate and plot Beta of correlation_all / total_df\n",
    "covariance_all = daily_returns.cov(total_df['SP_TSX'])\n",
    "covariance"
   ]
  },
  {
   "cell_type": "code",
   "execution_count": null,
   "metadata": {},
   "outputs": [],
   "source": [
    "# Calculate variance of S&P TSX\n",
    "variance_all = allreturns_df['SP_TSX'].var()\n",
    "variance_all\n",
    "# Computing beta\n",
    "S_P_beta = covariance_all / variance_all\n",
    "S_P_beta\n",
    "# Plot beta trend of my portfolio vs. SP_TSX. Since: rolling_beta = rolling_covariance / rolling_variance\n",
    "rolling_mine_covariance = allreturns_df['SOROS FUND MANAGEMENT LLC'].rolling(window=60).cov(allreturns_df['SP_TSX'])\n",
    "rolling_TSX_variance = allreturns_df['SP_TSX'].rolling(window=60).var()\n",
    "\n",
    "rolling_SOROS_beta = rolling_SOROS_covariance / rolling_TSX_variance\n",
    "rolling_SOROS_beta.plot(figsize=(20, 10), title='Rolling 60-Day Beta of George Soros Fund vs SP_TSX 60')"
   ]
  },
  {
   "cell_type": "markdown",
   "metadata": {},
   "source": [
    "### Using the daily returns, calculate and visualize the Sharpe ratios using a bar plot"
   ]
  },
  {
   "cell_type": "code",
   "execution_count": 273,
   "metadata": {},
   "outputs": [],
   "source": [
    "# Calculate Annualized Sharpe Ratios\n",
    "sharpe_ratios_all = (allreturns_df_base.mean() * 252) / (all_portfolio_std_base * np.sqrt(252))\n",
    "sharpe_ratios.head()\n",
    "print(sharpe_ratios)"
   ]
  },
  {
   "cell_type": "code",
   "execution_count": 385,
   "metadata": {},
   "outputs": [
    {
     "data": {
      "text/plain": [
       "<AxesSubplot:title={'center':'Sharpe Ratios'}>"
      ]
     },
     "execution_count": 385,
     "metadata": {},
     "output_type": "execute_result"
    },
    {
     "data": {
      "image/png": "[encoded data removed]",
      "text/plain": [
       "<Figure size 432x288 with 1 Axes>"
      ]
     },
     "metadata": {
      "needs_background": "light"
     },
     "output_type": "display_data"
    }
   ],
   "source": [
    "# Visualize the sharpe ratios as a bar plot\n",
    "sharpe_ratios.plot.bar(title=\"Sharpe Ratios\")"
   ]
  },
  {
   "cell_type": "markdown",
   "metadata": {},
   "source": [
    "### How does your portfolio do?\n",
    "\n",
    "Write your answer here!"
   ]
  },
  {
   "cell_type": "code",
   "execution_count": 387,
   "metadata": {},
   "outputs": [
    {
     "data": {
      "text/plain": [
       "'My portfolio wins!'"
      ]
     },
     "execution_count": 387,
     "metadata": {},
     "output_type": "execute_result"
    }
   ],
   "source": [
    "\"My portfolio wins!\""
   ]
  },
  {
   "cell_type": "code",
   "execution_count": null,
   "metadata": {},
   "outputs": [],
   "source": []
  }
 ],
 "metadata": {
  "file_extension": ".py",
  "kernelspec": {
   "display_name": "Python 3 (ipykernel)",
   "language": "python",
   "name": "python3"
  },
  "language_info": {
   "codemirror_mode": {
    "name": "ipython",
    "version": 3
   },
   "file_extension": ".py",
   "mimetype": "text/x-python",
   "name": "python",
   "nbconvert_exporter": "python",
   "pygments_lexer": "ipython3",
   "version": "3.8.8"
  },
  "mimetype": "text/x-python",
  "name": "python",
  "npconvert_exporter": "python",
  "pygments_lexer": "ipython3",
  "version": 3
 },
 "nbformat": 4,
 "nbformat_minor": 4
}
