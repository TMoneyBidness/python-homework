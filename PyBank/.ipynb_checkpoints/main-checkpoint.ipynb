{
 "cells": [
  {
   "cell_type": "markdown",
   "id": "704504ab-4657-4111-939a-be27ab52d732",
   "metadata": {},
   "source": [
    "## Pybank Assignment"
   ]
  },
  {
   "cell_type": "code",
   "execution_count": null,
   "id": "d6b9d751-612f-4e82-b39c-8e7c74f61278",
   "metadata": {},
   "outputs": [],
   "source": [
    "#The total number of months included in the dataset.\n",
    "#The net total amount of Profit/Losses over the entire period.\n",
    "#The greatest increase in profits (date and amount) over the entire period.\n",
    "#The greatest decrease in losses (date and amount) over the entire period.\n",
    "\n",
    "#df['Profit/Losses']"
   ]
  },
  {
   "cell_type": "code",
   "execution_count": 27,
   "id": "0ba38077-7371-43f6-88c4-1c05ecd059bb",
   "metadata": {},
   "outputs": [],
   "source": [
    "# Import the pathlib and csv library\n",
    "from pathlib import Path\n",
    "import csv"
   ]
  },
  {
   "cell_type": "code",
   "execution_count": 28,
   "id": "59bd6677-d506-4685-98ac-c2f8e1cadeea",
   "metadata": {},
   "outputs": [],
   "source": [
    "# Set the file path\n",
    "csvpath = Path(\"budget_data.csv\")\n",
    "\n",
    "# Initialize variable to hold number of months\n",
    "month = []\n",
    "total_pl = 0\n",
    "counter = 0\n",
    "lag = 0\n",
    "current = 0\n",
    "pnl_changes = 0\n",
    "ave_changes = 0"
   ]
  },
  {
   "cell_type": "code",
   "execution_count": 117,
   "id": "0fb80bb8-c152-4a83-9e05-85b00219b501",
   "metadata": {},
   "outputs": [
    {
     "name": "stdout",
     "output_type": "stream",
     "text": [
      "-313556\n",
      "Total Months: 86\n",
      "Total: $38382578\n",
      "Average delta is -3688.894117647059\n",
      "Max Up Month 1926159\n",
      "Max Up Date Feb-2012\n",
      "Max Down Month -2196167\n",
      "Max Down Date Sep-2013\n",
      "[0, -662642, -391430, 379920, 212354, 510239, -428211, -821271, 693918, 416278, -974163, 860159, -1115009, 1033048, 95318, -308093, 99052, -521393, 605450, 231727, -65187, -702716, 177975, -1065544, 1926159, -917805, 898730, -334262, -246499, -64055, -1529236, 1497596, 304914, -635801, 398319, -183161, -37864, -253689, 403655, 94168, 306877, -83000, 210462, -2196167, 1465222, -956983, 1838447, -468003, -64602, 206242, -242155, -449079, 315198, 241099, 111540, 365942, -219310, -368665, 409837, 151210, -110244, -341938, -1212159, 683246, -70825, 335594, 417334, -272194, -236462, 657432, -211262, -128237, -1750387, 925441, 932089, -311434, 267252, -1876758, 1733696, 198551, -665765, 693229, -734926, 77242, 532869]\n"
     ]
    }
   ],
   "source": [
    "# Open the csv file as an object\n",
    "with open(csvpath, 'r') as csvfile:\n",
    " # Pass in the csv file to the csv.reader() function\n",
    "    # (with ',' as the delmiter/separator) and return the csvreader object\n",
    "    csvreader = csv.reader(csvfile, delimiter=',')\n",
    "    \n",
    "    # Read the header row first (skip this step if there is no header)\n",
    "    csv_header = next(csvreader)\n",
    "\n",
    "#The total number of months included in the dataset.\n",
    "#The net total amount of Profit/Losses over the entire period.\n",
    "#records.append(csv_header)\n",
    "    month = 0\n",
    "    total_pnl = 0\n",
    "    delta = []\n",
    "    prev_mth = 0\n",
    "    delta_ave = 0\n",
    "    max_up_month = 0\n",
    "    max_up_date = \"\"\n",
    "    max_down_month = 0\n",
    "    max_down_date = \"\"\n",
    "    sum_delta = 0\n",
    "    len_delta = 0\n",
    "     \n",
    "    for row in csvreader:\n",
    "        if row[0] == \"Date\":\n",
    "            pass # do nothing\n",
    "        elif row[0] == \"Jan-2010\":\n",
    "            prev_mth = int(row[1])\n",
    "            month = month +1\n",
    "            total_pnl += int(row[1])\n",
    "            max_up_month = 0\n",
    "            max_up_date = row[0]\n",
    "            max_down_month = 0\n",
    "            max_down_date = row[0]\n",
    "        elif row[0] == \"Feb-2010\":\n",
    "            max_up_month = int(row[1]) - prev_mth\n",
    "            max_up_date = row[0]\n",
    "            max_down_month = int(row[1]) - prev_mth\n",
    "            max_down_date = int(row[1])\n",
    "            prev_mth = int(row[1])\n",
    "            month = month + 1\n",
    "            total_pnl += int(row[1])\n",
    "            max_up_date = row[0]\n",
    "#             delta.append(max_up_month)\n",
    "            delta.append(int(row[1]) - prev_mth)\n",
    "        else:\n",
    "            month = month + 1\n",
    "            total_pnl += int(row[1])\n",
    "            delta.append(int(row[1])-prev_mth)\n",
    "        if (int(row[1])-prev_mth) > max_up_month:\n",
    "            max_up_month = int(row[1]) - prev_mth\n",
    "            max_up_date = row[0]\n",
    "            \n",
    "        if (int(row[1])-prev_mth) < max_down_month:\n",
    "            max_down_month = int(row[1]) - prev_mth\n",
    "            max_down_date = row[0]\n",
    "            \n",
    "        prev_mth = int(row[1])    \n",
    "#     ave_Delta = sum(delta)/len(delta)\n",
    "  \n",
    "#     sum_delta = sum(delta)\n",
    "#     len_delta = len(delta)\n",
    "#     delta_ave = (sum_delta-row[1])/(len_delta)\n",
    "    print(sum(delta))\n",
    "    ave_delta = sum(delta) / len(delta)\n",
    "    print(f\"Total Months: {month}\")\n",
    "    print(f\"Total: ${total_pnl}\")\n",
    "    print(f\"Average delta is {ave_delta}\")\n",
    "    print(f\"Max Up Month {max_up_month}\")\n",
    "    print(f\"Max Up Date {max_up_date}\")\n",
    "    print(f\"Max Down Month {max_down_month}\")\n",
    "    print(f\"Max Down Date {max_down_date}\")\n",
    "    print(delta)\n",
    "\n",
    "\n"
   ]
  },
  {
   "cell_type": "code",
   "execution_count": null,
   "id": "27e4f21c-2ffd-4f2a-89ba-efc4f1993ec4",
   "metadata": {},
   "outputs": [],
   "source": [
    "#         if max(delta) > max_up_month:\n",
    "#             max_up_month = int(row[1]) - prev_mth\n",
    "#             max_up_date = row[0]\n",
    "#         delta.append(int(row[1])-prev_mth)"
   ]
  },
  {
   "cell_type": "code",
   "execution_count": null,
   "id": "0f06d508-cbd6-489c-a728-056f830f0d3a",
   "metadata": {},
   "outputs": [],
   "source": [
    "#   for row in csvreader:\n",
    "#         month +=1\n",
    "#         total_pnl += int(row[1])\n",
    "#     print(f\"Total Months: {month}\")\n",
    "#     print(f\"Total: ${total_pnl}\")"
   ]
  },
  {
   "cell_type": "code",
   "execution_count": null,
   "id": "6c5d9396-5e46-4f52-8399-895b1e53ce01",
   "metadata": {},
   "outputs": [],
   "source": []
  }
 ],
 "metadata": {
  "kernelspec": {
   "display_name": "Python 3 (ipykernel)",
   "language": "python",
   "name": "python3"
  },
  "language_info": {
   "codemirror_mode": {
    "name": "ipython",
    "version": 3
   },
   "file_extension": ".py",
   "mimetype": "text/x-python",
   "name": "python",
   "nbconvert_exporter": "python",
   "pygments_lexer": "ipython3",
   "version": "3.8.8"
  }
 },
 "nbformat": 4,
 "nbformat_minor": 5
}
